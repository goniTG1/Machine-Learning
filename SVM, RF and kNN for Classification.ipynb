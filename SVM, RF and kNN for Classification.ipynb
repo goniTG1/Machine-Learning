{
 "cells": [
  {
   "cell_type": "markdown",
   "metadata": {},
   "source": [
    "# Classification\n",
    "\n",
    "In this lab, we will use different **classification** methods: \n",
    "\n",
    "> [$SVM$](https://scikit-learn.org/stable/modules/svm.html)\n",
    "\n",
    "> [$kNN$](https://www.datacamp.com/community/tutorials/k-nearest-neighbor-classification-scikit-learn)\n",
    "\n",
    "> [$Random Forest$](https://scikit-learn.org/stable/modules/generated/sklearn.ensemble.RandomForestClassifier.html)\n",
    "\n",
    "For each method, we will select *hyperparamters*, obtain *scores* and perform differents tests (like the computation time)"
   ]
  },
  {
   "cell_type": "code",
   "execution_count": 1,
   "metadata": {
    "colab": {},
    "colab_type": "code",
    "executionInfo": {
     "elapsed": 596,
     "status": "ok",
     "timestamp": 1600925966214,
     "user": {
      "displayName": "EMILIO PARRADO HERNANDEZ",
      "photoUrl": "https://lh3.googleusercontent.com/a-/AOh14Ghu-OvX6osyVq8b7J4Xa7D7HiZ61sPYwKqgPxyJ=s64",
      "userId": "09506376050266996513"
     },
     "user_tz": -120
    },
    "id": "lXyR3B1-cst0"
   },
   "outputs": [],
   "source": [
    "from IPython.core.display import Image, display"
   ]
  },
  {
   "cell_type": "code",
   "execution_count": 2,
   "metadata": {
    "colab": {},
    "colab_type": "code",
    "executionInfo": {
     "elapsed": 863,
     "status": "ok",
     "timestamp": 1600925966486,
     "user": {
      "displayName": "EMILIO PARRADO HERNANDEZ",
      "photoUrl": "https://lh3.googleusercontent.com/a-/AOh14Ghu-OvX6osyVq8b7J4Xa7D7HiZ61sPYwKqgPxyJ=s64",
      "userId": "09506376050266996513"
     },
     "user_tz": -120
    },
    "id": "McTkC40Tcst3"
   },
   "outputs": [],
   "source": [
    "%matplotlib inline\n",
    "%config InlineBackend.figure_format = 'retina'  "
   ]
  },
  {
   "cell_type": "code",
   "execution_count": 3,
   "metadata": {
    "colab": {},
    "colab_type": "code",
    "executionInfo": {
     "elapsed": 860,
     "status": "ok",
     "timestamp": 1600925966487,
     "user": {
      "displayName": "EMILIO PARRADO HERNANDEZ",
      "photoUrl": "https://lh3.googleusercontent.com/a-/AOh14Ghu-OvX6osyVq8b7J4Xa7D7HiZ61sPYwKqgPxyJ=s64",
      "userId": "09506376050266996513"
     },
     "user_tz": -120
    },
    "id": "lopz8Y9Ccst6"
   },
   "outputs": [],
   "source": [
    "\n",
    "import matplotlib.pyplot as plt\n",
    "import numpy as np\n",
    "from scipy.stats import multivariate_normal, norm\n",
    "import pandas as pd"
   ]
  },
  {
   "cell_type": "code",
   "execution_count": 4,
   "metadata": {
    "colab": {},
    "colab_type": "code",
    "executionInfo": {
     "elapsed": 856,
     "status": "ok",
     "timestamp": 1600925966487,
     "user": {
      "displayName": "EMILIO PARRADO HERNANDEZ",
      "photoUrl": "https://lh3.googleusercontent.com/a-/AOh14Ghu-OvX6osyVq8b7J4Xa7D7HiZ61sPYwKqgPxyJ=s64",
      "userId": "09506376050266996513"
     },
     "user_tz": -120
    },
    "id": "fm3gxPXut2e1"
   },
   "outputs": [],
   "source": [
    "def load_spam():\n",
    "  data = pd.read_csv('https://archive.ics.uci.edu/ml/machine-learning-databases/spambase/spambase.data',header=None)\n",
    "  data.columns=[\"wf_make\",         \n",
    "\"wf_address\",      \n",
    "\"wf_all\",          \n",
    "\"wf_3d\",           \n",
    "\"wf_our\",          \n",
    "\"wf_over\",         \n",
    "\"wf_remove\",       \n",
    "\"wf_internet\",     \n",
    "\"wf_order\",        \n",
    "\"wf_mail\",         \n",
    "\"wf_receive\",      \n",
    "\"wf_will\",         \n",
    "\"wf_people\",       \n",
    "\"wf_report\",       \n",
    "\"wf_addresses\",    \n",
    "\"wf_free\",         \n",
    "\"wf_business\",     \n",
    "\"wf_email\",        \n",
    "\"wf_you\",          \n",
    "\"wf_credit\",       \n",
    "\"wf_your\",         \n",
    "\"wf_font\",         \n",
    "\"wf_000\",          \n",
    "\"wf_money\",        \n",
    "\"wf_hp\",           \n",
    "\"wf_hpl\",          \n",
    "\"wf_george\",       \n",
    "\"wf_650\",          \n",
    "\"wf_lab\",          \n",
    "\"wf_labs\",         \n",
    "\"wf_telnet\",       \n",
    "\"wf_857\",          \n",
    "\"wf_data\",         \n",
    "\"wf_415\",          \n",
    "\"wf_85\",           \n",
    "\"wf_technology\",   \n",
    "\"wf_1999\",         \n",
    "\"wf_parts\",        \n",
    "\"wf_pm\",           \n",
    "\"wf_direct\",       \n",
    "\"wf_cs\",           \n",
    "\"wf_meeting\",      \n",
    "\"wf_original\",     \n",
    "\"wf_project\",      \n",
    "\"wf_re\",           \n",
    "\"wf_edu\",          \n",
    "\"wf_table\",        \n",
    "\"wf_conference\",   \n",
    "\"cf_;\",            \n",
    "\"cf_(\",            \n",
    "\"cf_[\",            \n",
    "\"cf_!\",            \n",
    "\"cf_$\",            \n",
    "\"cf_#\",            \n",
    "\"cap_average\", \n",
    "\"cap_longest\", \n",
    "\"cap_total\",\n",
    "\"target\"]\n",
    "  return data"
   ]
  },
  {
   "cell_type": "markdown",
   "metadata": {
    "colab_type": "text",
    "id": "ZqqigYrw4WXW"
   },
   "source": [
    "# Spam filter data set\n",
    "\n",
    "The data we will be using can be found here: [Spam filtering](https://archive.ics.uci.edu/ml/datasets/spambase). In this lab, we will classify an income mail as spam or desired based on different factors. The variables in the dataset include the following:\n",
    "\n",
    "  - 48 continuous real variables in $[0,100]$ *word_freq_WORD*: frequency of word *WORD* in the email (in percentage)\n",
    "  - 6 continuous real variables in $[0,100]$ *char_freq_CHAR*: frequency of character *CHAR* in the email (in percentage)\n",
    "  - 1 continuous real variable: average length of the sequences of uninterrupted capital letters \n",
    "  - 1 continuous real variable: length of the longest  sequence of uninterrupted capital letters \n",
    "  - 1 continuous real variable: total count of capital letters in the email"
   ]
  },
  {
   "cell_type": "code",
   "execution_count": 5,
   "metadata": {
    "colab": {
     "base_uri": "https://localhost:8080/",
     "height": 118
    },
    "colab_type": "code",
    "executionInfo": {
     "elapsed": 1719,
     "status": "ok",
     "timestamp": 1600925967355,
     "user": {
      "displayName": "EMILIO PARRADO HERNANDEZ",
      "photoUrl": "https://lh3.googleusercontent.com/a-/AOh14Ghu-OvX6osyVq8b7J4Xa7D7HiZ61sPYwKqgPxyJ=s64",
      "userId": "09506376050266996513"
     },
     "user_tz": -120
    },
    "id": "aIgJdjQGcst_",
    "outputId": "af66b349-2a36-4913-fb20-5ae346564ff3"
   },
   "outputs": [
    {
     "name": "stdout",
     "output_type": "stream",
     "text": [
      "Loaded 4601 observations with 58 columns\n",
      "\n",
      "4601 observations with 57 columns\n",
      "4601 targets\n",
      "Values of the targets:\n",
      "[0 1]\n"
     ]
    }
   ],
   "source": [
    "data = load_spam()\n",
    "print(\"Loaded {0:d} observations with {1:d} columns\\n\".format(len(data), len(data.columns)))\n",
    "X = data[data.columns[:57]].values\n",
    "Y = data['target'].values\n",
    "print(\"{0:d} observations with {1:d} columns\".format(X.shape[0], X.shape[1]))\n",
    "print(\"{0:d} targets\".format(len(Y)))\n",
    "print(\"Values of the targets:\")\n",
    "print(np.unique(Y))"
   ]
  },
  {
   "cell_type": "markdown",
   "metadata": {
    "colab_type": "text",
    "id": "HVE2z-88hJO4"
   },
   "source": [
    "## Training and test set\n",
    "\n",
    "We will create a partition of the data: 70% will be the **train** and the rest is the **test**."
   ]
  },
  {
   "cell_type": "code",
   "execution_count": 6,
   "metadata": {
    "colab": {},
    "colab_type": "code",
    "executionInfo": {
     "elapsed": 1717,
     "status": "ok",
     "timestamp": 1600925967355,
     "user": {
      "displayName": "EMILIO PARRADO HERNANDEZ",
      "photoUrl": "https://lh3.googleusercontent.com/a-/AOh14Ghu-OvX6osyVq8b7J4Xa7D7HiZ61sPYwKqgPxyJ=s64",
      "userId": "09506376050266996513"
     },
     "user_tz": -120
    },
    "id": "awofnJLThu32"
   },
   "outputs": [],
   "source": [
    "\n",
    "\n",
    "import numpy as np\n",
    "from sklearn.model_selection import train_test_split\n",
    "\n",
    "x_train, x_test, y_train, y_test = train_test_split(X, Y, test_size=0.3, random_state=42)\n",
    "\n",
    "x_train_original = x_train\n",
    "y_train_original = y_train\n",
    "x_test_original = x_test\n",
    "y_test_original = y_test\n"
   ]
  },
  {
   "cell_type": "markdown",
   "metadata": {
    "colab_type": "text",
    "id": "H6S-oH-NiGb0"
   },
   "source": [
    "\n",
    "## Estimation of hyperparameters with grid search\n",
    "\n",
    "We will use a **grid search** with **cross validation** to find the best values of the *hyperparameters*.\n",
    "\n",
    "We will form a **grid** with a number of dimensions equal to the number of hyperparameters that need to be optimized. Afterwards, we will use **cross validation** to simulate the effect of training a model with a set of data and evaluate its generalization capabilities as the performance in a **separate dataset**. \n",
    "\n",
    "The cross validation process consists of randomly partitioning the training dataset in disjoint subsets of similar sizes (each set called a **fold**). For each fold, an instance of the model is created with the corresponding hypterparameters, we will have $N$ scores, corresponding to the evaluation of the model fitted in each iteration. \n",
    "\n",
    "\n"
   ]
  },
  {
   "cell_type": "markdown",
   "metadata": {},
   "source": [
    "**We will use the  training data partition exclusively. We will use *StandardScaler* to normalize the data.**"
   ]
  },
  {
   "cell_type": "code",
   "execution_count": 16,
   "metadata": {
    "colab": {
     "base_uri": "https://localhost:8080/",
     "height": 118
    },
    "colab_type": "code",
    "executionInfo": {
     "elapsed": 160903,
     "status": "ok",
     "timestamp": 1600926126554,
     "user": {
      "displayName": "EMILIO PARRADO HERNANDEZ",
      "photoUrl": "https://lh3.googleusercontent.com/a-/AOh14Ghu-OvX6osyVq8b7J4Xa7D7HiZ61sPYwKqgPxyJ=s64",
      "userId": "09506376050266996513"
     },
     "user_tz": -120
    },
    "id": "4RGN-OAyj5T3",
    "outputId": "8f336bfe-ebcb-4d0f-8c1b-ff8c6093e553"
   },
   "outputs": [
    {
     "name": "stdout",
     "output_type": "stream",
     "text": [
      "KNN:  {'n_neighbors': 10, 'weights': 'distance'}\n",
      "Random Forest:  {'max_leaf_nodes': 50, 'n_estimators': 1000}\n"
     ]
    }
   ],
   "source": [
    "from sklearn.preprocessing import StandardScaler\n",
    "\n",
    "ss = StandardScaler()\n",
    "\n",
    "x_train = ss.fit_transform(x_train)\n",
    "x_test = ss.transform(x_test)\n",
    "\n",
    "from sklearn.model_selection import GridSearchCV\n",
    "from sklearn.neighbors import KNeighborsClassifier\n",
    "\n",
    "knn_params = {\n",
    "    'n_neighbors' : [1,3,5,7,10,15,20,50,100,200,500],\n",
    "    'weights' : ['distance', 'uniform']\n",
    "}\n",
    "\n",
    "gridKNN = GridSearchCV(KNeighborsClassifier(), knn_params, cv = 5);\n",
    "gridKNN_results = gridKNN.fit(x_train, y_train);\n",
    "bestKNN = gridKNN_results.best_params_;\n",
    "print(\"KNN: \", bestKNN)\n",
    "\n",
    "\n",
    "from sklearn.ensemble import RandomForestClassifier\n",
    "\n",
    "rf_params = {\n",
    "    'n_estimators' : [10,20,50,100,200,500,1000],\n",
    "    'max_leaf_nodes' : [5,10,20,50]\n",
    "}\n",
    "\n",
    "gridRF = GridSearchCV(RandomForestClassifier(), rf_params, cv = 5)\n",
    "gridRF_results = gridRF.fit(x_train, y_train)\n",
    "bestRF = gridRF_results.best_params_\n",
    "print(\"Random Forest: \", bestRF)"
   ]
  },
  {
   "cell_type": "markdown",
   "metadata": {
    "colab_type": "text",
    "id": "RLKQygGXmp67"
   },
   "source": [
    "## Other relevant measures besides the accuracy\n",
    "\n",
    "Besides the classification accuracy there are other relevant measures that can help you decide for a machine learning method or another. These metrics include the **time needed to train the method** and the **time needed to evaluate a test set** with an already trained method.\n"
   ]
  },
  {
   "cell_type": "markdown",
   "metadata": {},
   "source": [
    "We will use the **best parameters** obtained before and test how long they take in order to help find the best hyperparameters."
   ]
  },
  {
   "cell_type": "code",
   "execution_count": 17,
   "metadata": {
    "colab": {
     "base_uri": "https://localhost:8080/",
     "height": 85
    },
    "colab_type": "code",
    "executionInfo": {
     "elapsed": 183955,
     "status": "ok",
     "timestamp": 1600876082064,
     "user": {
      "displayName": "EMILIO PARRADO HERNANDEZ",
      "photoUrl": "https://lh3.googleusercontent.com/a-/AOh14Ghu-OvX6osyVq8b7J4Xa7D7HiZ61sPYwKqgPxyJ=s64",
      "userId": "09506376050266996513"
     },
     "user_tz": -120
    },
    "id": "1K0dG230qnET",
    "outputId": "4e38e36f-ed9e-422e-e40a-7146ba2041ba"
   },
   "outputs": [
    {
     "name": "stdout",
     "output_type": "stream",
     "text": [
      "KNN:  {'fit_time': array([0.01698828, 0.02198577, 0.01898909, 0.02198386, 0.01499081]), 'score_time': array([0.24584723, 0.25284362, 0.23285484, 0.22686028, 0.24484825]), 'test_score': array([0.91317829, 0.92236025, 0.89285714, 0.93944099, 0.91135303])}\n",
      "\n",
      "Random Forest:  {'fit_time': array([2.70385671, 2.37469006, 2.09570169, 1.97728395, 1.97977066]), 'score_time': array([0.10893202, 0.10593271, 0.08894539, 0.09194255, 0.09394217]), 'test_score': array([0.93488372, 0.94254658, 0.93012422, 0.94565217, 0.94245723])}\n"
     ]
    }
   ],
   "source": [
    "from sklearn.model_selection import cross_validate\n",
    "\n",
    "cv_knn = cross_validate(KNeighborsClassifier(n_neighbors=10, weights='distance'), x_train, y_train, cv = 5)\n",
    "print(\"KNN: \", cv_knn)\n",
    "\n",
    "cv_rf = cross_validate(RandomForestClassifier(max_leaf_nodes=50, n_estimators=500), x_train, y_train, cv = 5)\n",
    "print('\\nRandom Forest: ', cv_rf)\n"
   ]
  },
  {
   "cell_type": "markdown",
   "metadata": {
    "colab_type": "text",
    "id": "V-xM3C3LuTVm"
   },
   "source": [
    "# SVM initial guess for the hyperparameters\n",
    "\n",
    "We will guess the value of each hyperparameter\n"
   ]
  },
  {
   "cell_type": "code",
   "execution_count": 19,
   "metadata": {
    "colab": {
     "base_uri": "https://localhost:8080/",
     "height": 34
    },
    "colab_type": "code",
    "executionInfo": {
     "elapsed": 72333,
     "status": "ok",
     "timestamp": 1600926352552,
     "user": {
      "displayName": "EMILIO PARRADO HERNANDEZ",
      "photoUrl": "https://lh3.googleusercontent.com/a-/AOh14Ghu-OvX6osyVq8b7J4Xa7D7HiZ61sPYwKqgPxyJ=s64",
      "userId": "09506376050266996513"
     },
     "user_tz": -120
    },
    "id": "hwh3eAkAunUj",
    "outputId": "e566776d-13f5-4903-a0b0-d1bd1cdabb22"
   },
   "outputs": [
    {
     "name": "stdout",
     "output_type": "stream",
     "text": [
      "{'C': 10, 'gamma': 0.1}\n"
     ]
    }
   ],
   "source": [
    "from sklearn.svm import SVC\n",
    "\n",
    "param_grid = {\n",
    "    'C' : [0.1,1,10,100,1000],\n",
    "    'gamma' : [0.1,1,10]\n",
    "}\n",
    "\n",
    "grid = GridSearchCV(SVC(),param_grid, cv = 5)\n",
    "grid_results = grid.fit(x_train, y_train)\n",
    "best = grid_results.best_params_\n",
    "print(best)\n"
   ]
  },
  {
   "cell_type": "markdown",
   "metadata": {
    "colab_type": "text",
    "id": "Pnqv8kpOdLzC"
   },
   "source": [
    "# Dependence of the SVC performance with $\\gamma$\n",
    "\n",
    "In the following cells, we will get some insights on the role of each parameter in the performance of the SVM. We will analyze the spread of the kernel. Later, we will plot the **cross validation** error for a wide range of values of the kernel. We will standarize the data.\n"
   ]
  },
  {
   "cell_type": "code",
   "execution_count": 21,
   "metadata": {
    "colab": {
     "base_uri": "https://localhost:8080/",
     "height": 266
    },
    "colab_type": "code",
    "executionInfo": {
     "elapsed": 46861,
     "status": "ok",
     "timestamp": 1600926551656,
     "user": {
      "displayName": "EMILIO PARRADO HERNANDEZ",
      "photoUrl": "https://lh3.googleusercontent.com/a-/AOh14Ghu-OvX6osyVq8b7J4Xa7D7HiZ61sPYwKqgPxyJ=s64",
      "userId": "09506376050266996513"
     },
     "user_tz": -120
    },
    "id": "-w5KJnordc0Y",
    "outputId": "70c6f555-3aed-4f5e-aa4e-28d8433dc4e0"
   },
   "outputs": [
    {
     "name": "stdout",
     "output_type": "stream",
     "text": [
      "[0.07701678 0.07577455 0.07608511 0.07577406 0.07453231 0.07484287\n",
      " 0.07422223 0.07391215 0.07360063 0.07266943 0.07266799 0.07235743\n",
      " 0.07173583 0.07173534 0.07049166 0.0701811  0.0708027  0.07018206\n",
      " 0.07018254 0.07049311 0.07018255 0.0698715  0.06956191 0.06925087\n",
      " 0.06925087 0.07018351 0.06987295 0.06956288 0.0692528  0.06956336\n",
      " 0.0692528  0.07080463 0.07018351 0.06956191 0.06925183 0.06987247\n",
      " 0.07018303 0.06987151 0.06987151 0.07049263 0.07018206 0.07080318\n",
      " 0.07111374 0.07235598 0.0714243  0.0714243  0.07111374 0.06956047\n",
      " 0.07049311 0.07111422]\n"
     ]
    },
    {
     "data": {
      "image/png": "[encoded data removed]",
      "text/plain": [
       "<Figure size 432x288 with 1 Axes>"
      ]
     },
     "metadata": {
      "image/png": {
       "height": 249,
       "width": 385
      },
      "needs_background": "light"
     },
     "output_type": "display_data"
    }
   ],
   "source": [
    "\n",
    "gamma = np.logspace(-3, -2, 50, endpoint=True)\n",
    "cve = np.empty(gamma.shape[0])\n",
    "counter = 0\n",
    "\n",
    "for i in gamma:\n",
    "    results = cross_validate(SVC(C= 10,gamma = i),x_train ,y_train, cv = 5)\n",
    "    cve[counter] = 1-(sum(results['test_score'])/len(results['test_score']))\n",
    "    counter += 1\n",
    "\n",
    "print(cve)\n",
    "    \n",
    "plt.figure()\n",
    "plt.plot(gamma, cve, label='Cross validation error vs.  𝛾')\n",
    "plt.grid()\n",
    "plt.xscale('log')\n"
   ]
  },
  {
   "cell_type": "markdown",
   "metadata": {
    "colab_type": "text",
    "id": "mJ_n_HN-do92"
   },
   "source": [
    "The value of $\\gamma$ in a RBF kernel indicates how large is the local influence of each support vector. That is, the classification of each observation is more dependent on the closer Support Vectors. \n"
   ]
  },
  {
   "cell_type": "code",
   "execution_count": 25,
   "metadata": {
    "colab": {
     "base_uri": "https://localhost:8080/",
     "height": 266
    },
    "colab_type": "code",
    "executionInfo": {
     "elapsed": 26032,
     "status": "ok",
     "timestamp": 1600926662041,
     "user": {
      "displayName": "EMILIO PARRADO HERNANDEZ",
      "photoUrl": "https://lh3.googleusercontent.com/a-/AOh14Ghu-OvX6osyVq8b7J4Xa7D7HiZ61sPYwKqgPxyJ=s64",
      "userId": "09506376050266996513"
     },
     "user_tz": -120
    },
    "id": "5CFgE52-dwjm",
    "outputId": "333fa755-7708-40ea-b9ff-b5e766239e8e"
   },
   "outputs": [
    {
     "data": {
      "image/png": "[encoded data removed]",
      "text/plain": [
       "<Figure size 432x288 with 1 Axes>"
      ]
     },
     "metadata": {
      "image/png": {
       "height": 249,
       "width": 378
      },
      "needs_background": "light"
     },
     "output_type": "display_data"
    }
   ],
   "source": [
    "\n",
    "# here we see a kNN classifier with votes weighted by distance.\n",
    "\n",
    "k = [1, 2, 5, 10, 20,50, 100, 200, 500, 1000, 2000]\n",
    "cve = np.empty(len(k))\n",
    "\n",
    "\n",
    "plt.figure()\n",
    "plt.plot(k, cve, label='Cross validation error vs.  k')\n",
    "plt.grid()\n",
    "plt.xscale('log')\n"
   ]
  },
  {
   "cell_type": "markdown",
   "metadata": {
    "colab_type": "text",
    "id": "nfSp86ZigP3t"
   },
   "source": [
    "# Dependence of the SVC performance with $C$\n",
    "\n",
    "\n",
    "Using the best value we found before, we will find the best value for the $C$ parameter\n"
   ]
  },
  {
   "cell_type": "code",
   "execution_count": 27,
   "metadata": {
    "colab": {
     "base_uri": "https://localhost:8080/",
     "height": 266
    },
    "colab_type": "code",
    "executionInfo": {
     "elapsed": 17244,
     "status": "ok",
     "timestamp": 1600926793831,
     "user": {
      "displayName": "EMILIO PARRADO HERNANDEZ",
      "photoUrl": "https://lh3.googleusercontent.com/a-/AOh14Ghu-OvX6osyVq8b7J4Xa7D7HiZ61sPYwKqgPxyJ=s64",
      "userId": "09506376050266996513"
     },
     "user_tz": -120
    },
    "id": "wTL2oknJgXvk",
    "outputId": "1ee16f19-e1fc-4252-b72b-e9d0bcbc54a0"
   },
   "outputs": [
    {
     "name": "stdout",
     "output_type": "stream",
     "text": [
      "[0.09503115 0.09503163 0.09472107 0.09534268 0.09565323 0.09658539\n",
      " 0.09720603 0.09782667 0.09844779 0.09844779 0.09782667 0.09751611\n",
      " 0.09751707 0.09689595 0.09751707 0.09689643 0.09689547 0.09689499\n",
      " 0.09751707 0.09751707 0.09720555 0.09689499 0.09720651 0.09907035\n",
      " 0.0990718  0.09876172 0.09969388 0.09907276 0.09845116 0.09845116\n",
      " 0.09845068 0.09814012 0.09907228 0.09938332 0.09938284 0.09938284\n",
      " 0.09907228 0.09907179 0.09938187 0.09969243 0.09969243 0.09969243\n",
      " 0.09938235 0.09938235 0.09876123 0.09938235 0.09969291 0.09969291\n",
      " 0.09938139 0.09938139]\n"
     ]
    },
    {
     "data": {
      "image/png": "[encoded data removed]",
      "text/plain": [
       "<Figure size 432x288 with 1 Axes>"
      ]
     },
     "metadata": {
      "image/png": {
       "height": 249,
       "width": 384
      },
      "needs_background": "light"
     },
     "output_type": "display_data"
    }
   ],
   "source": [
    "\n",
    "C = np.logspace(1, 2, 50, endpoint=True)\n",
    "cve = np.empty(C.shape[0])\n",
    "\n",
    "for counter, value in enumerate(C):\n",
    "    results = cross_validate(SVC(C= value, gamma = 0.1),x_train ,y_train, cv = 5)\n",
    "    cve[counter] = 1-np.mean(results['test_score'])\n",
    "\n",
    "print(cve)\n",
    "    \n",
    "plt.figure()\n",
    "plt.plot(gamma, cve, label='Cross validation error vs.  C')\n",
    "plt.grid()\n",
    "plt.xscale('log')\n"
   ]
  },
  {
   "cell_type": "markdown",
   "metadata": {
    "colab_type": "text",
    "id": "wDPExxD1j83y"
   },
   "source": [
    "# Final model with SVC\n",
    "\n",
    "## Finer grid search for finding the final set of hyperparameters\n",
    "\n",
    "Once we have good results, we will go another **grid search** to obtain yet other $C$ and $\\gamma$"
   ]
  },
  {
   "cell_type": "code",
   "execution_count": 28,
   "metadata": {
    "colab": {
     "base_uri": "https://localhost:8080/",
     "height": 34
    },
    "colab_type": "code",
    "executionInfo": {
     "elapsed": 412294,
     "status": "ok",
     "timestamp": 1600876310613,
     "user": {
      "displayName": "EMILIO PARRADO HERNANDEZ",
      "photoUrl": "https://lh3.googleusercontent.com/a-/AOh14Ghu-OvX6osyVq8b7J4Xa7D7HiZ61sPYwKqgPxyJ=s64",
      "userId": "09506376050266996513"
     },
     "user_tz": -120
    },
    "id": "9UCYy-6-koBi",
    "outputId": "f0463543-f68c-414d-bb97-df5b3450438e"
   },
   "outputs": [
    {
     "name": "stdout",
     "output_type": "stream",
     "text": [
      "{'C': 100.0, 'gamma': 0.0026366508987303583}\n"
     ]
    }
   ],
   "source": [
    "\n",
    "C = np.logspace(1, 2, 20, endpoint=True)\n",
    "gamma = np.logspace(-3, -2, 20, endpoint=True)\n",
    "\n",
    "params = {\n",
    "    'C' : C,\n",
    "    'gamma' : gamma\n",
    "}\n",
    "\n",
    "grid = GridSearchCV(SVC(),params, cv = 5)\n",
    "grid_results = grid.fit(x_train, y_train)\n",
    "best = grid_results.best_params_\n",
    "print(best)\n",
    "\n"
   ]
  },
  {
   "cell_type": "markdown",
   "metadata": {
    "colab_type": "text",
    "id": "gWpDdD_4lRYU"
   },
   "source": [
    "## Execution times with the best hyperparameters\n",
    "\n",
    "Here, we will use the best hyperparamters and obtain the fitting and testing time for all values."
   ]
  },
  {
   "cell_type": "code",
   "execution_count": 29,
   "metadata": {
    "colab": {
     "base_uri": "https://localhost:8080/",
     "height": 51
    },
    "colab_type": "code",
    "executionInfo": {
     "elapsed": 413882,
     "status": "ok",
     "timestamp": 1600876312262,
     "user": {
      "displayName": "EMILIO PARRADO HERNANDEZ",
      "photoUrl": "https://lh3.googleusercontent.com/a-/AOh14Ghu-OvX6osyVq8b7J4Xa7D7HiZ61sPYwKqgPxyJ=s64",
      "userId": "09506376050266996513"
     },
     "user_tz": -120
    },
    "id": "7tupkhQSlg4s",
    "outputId": "74ad1e43-f911-4789-b073-de1d7d0f2631"
   },
   "outputs": [
    {
     "name": "stdout",
     "output_type": "stream",
     "text": [
      "SVM time results: {'fit_time': array([0.23985124, 0.25983834, 0.23685503, 0.27882957, 0.27982497]), 'score_time': array([0.02898073, 0.03098083, 0.03097963, 0.03797412, 0.03198266]), 'test_score': array([0.9255814 , 0.9378882 , 0.92857143, 0.94565217, 0.93157076])}\n",
      "test_score: 0.93385279172879\n",
      "fit_time: 0.25903983116149903\n",
      "score_time: 0.03217959403991699\n",
      "\n",
      "KNN time results: {'fit_time': array([0.01698828, 0.02198577, 0.01898909, 0.02198386, 0.01499081]), 'score_time': array([0.24584723, 0.25284362, 0.23285484, 0.22686028, 0.24484825]), 'test_score': array([0.91317829, 0.92236025, 0.89285714, 0.93944099, 0.91135303])}\n",
      "test_score: 0.9158379424652441\n",
      "fit_time: 0.018987560272216798\n",
      "score_time: 0.24065084457397462\n",
      "\n",
      "Random Forest time results: {'fit_time': array([2.70385671, 2.37469006, 2.09570169, 1.97728395, 1.97977066]), 'score_time': array([0.10893202, 0.10593271, 0.08894539, 0.09194255, 0.09394217]), 'test_score': array([0.93488372, 0.94254658, 0.93012422, 0.94565217, 0.94245723])}\n",
      "test_score: 0.939132786804595\n",
      "fit_time: 2.226260614395142\n",
      "score_time: 0.09793896675109863\n"
     ]
    }
   ],
   "source": [
    "\n",
    "\n",
    "best_C = 100.0\n",
    "best_gamma = 0.002976351441631319\n",
    "\n",
    "# SVM\n",
    "cv_svm = cross_validate(SVC(gamma = best_gamma, C=best_C), x_train, y_train, cv = 5)\n",
    "print('SVM time results:', cv_svm)\n",
    "print('test_score:', np.mean(cv_svm['test_score']))\n",
    "print('fit_time:', np.mean(cv_svm['fit_time']))\n",
    "print('score_time:', np.mean(cv_svm['score_time']))\n",
    "\n",
    "# KNN\n",
    "print('\\nKNN time results:', cv_knn)\n",
    "print('test_score:', np.mean(cv_knn['test_score']))\n",
    "print('fit_time:', np.mean(cv_knn['fit_time']))\n",
    "print('score_time:', np.mean(cv_knn['score_time']))\n",
    "\n",
    "# Random Forest\n",
    "print('\\nRandom Forest time results:', cv_rf)\n",
    "print('test_score:', np.mean(cv_rf['test_score']))\n",
    "print('fit_time:', np.mean(cv_rf['fit_time']))\n",
    "print('score_time:', np.mean(cv_rf['score_time']))\n",
    "\n"
   ]
  },
  {
   "cell_type": "code",
   "execution_count": 30,
   "metadata": {
    "scrolled": true
   },
   "outputs": [
    {
     "name": "stdout",
     "output_type": "stream",
     "text": [
      "test_score improvement:\n",
      "SVM vs KNN\n",
      " 0         NaN\n",
      "1   -0.019291\n",
      "dtype: float64\n",
      "\n",
      "SVM vs RF\n",
      " 0         NaN\n",
      "1    0.005654\n",
      "dtype: float64\n",
      "\n",
      "fit_time improvement:\n",
      "KNN vs SVM\n",
      " 0          NaN\n",
      "1    12.642607\n",
      "dtype: float64\n",
      "\n",
      "KNN vs RF\n",
      " 0           NaN\n",
      "1    116.248376\n",
      "dtype: float64\n",
      "\n",
      "score_time improvement:\n",
      "RF vs SVM\n",
      " 0         NaN\n",
      "1   -0.671432\n",
      "dtype: float64\n",
      "\n",
      "RF vs KNN\n",
      " 0         NaN\n",
      "1    1.457151\n",
      "dtype: float64\n"
     ]
    }
   ],
   "source": [
    "print('test_score improvement:')\n",
    "test_score_series1 = pd.Series([np.mean(cv_svm['test_score']), np.mean(cv_knn['test_score'])])\n",
    "test_score_series2 = pd.Series([np.mean(cv_svm['test_score']), np.mean(cv_rf['test_score'])])\n",
    "\n",
    "print('SVM vs KNN\\n', test_score_series1.pct_change())\n",
    "print('\\nSVM vs RF\\n', test_score_series2.pct_change())\n",
    "\n",
    "\n",
    "print('\\nfit_time improvement:')\n",
    "fit_time_series1 = pd.Series([np.mean(cv_knn['fit_time']), np.mean(cv_svm['fit_time'])])\n",
    "fit_time_series2 = pd.Series([np.mean(cv_knn['fit_time']), np.mean(cv_rf['fit_time'])])\n",
    "\n",
    "print('KNN vs SVM\\n', fit_time_series1.pct_change())\n",
    "print('\\nKNN vs RF\\n', fit_time_series2.pct_change())\n",
    "\n",
    "\n",
    "print('\\nscore_time improvement:')\n",
    "score_time_series1 = pd.Series([np.mean(cv_rf['score_time']), np.mean(cv_svm['score_time'])])\n",
    "score_time_series2 = pd.Series([np.mean(cv_rf['score_time']), np.mean(cv_knn['score_time'])])\n",
    "\n",
    "print('RF vs SVM\\n', score_time_series1.pct_change())\n",
    "print('\\nRF vs KNN\\n', score_time_series2.pct_change())"
   ]
  },
  {
   "cell_type": "markdown",
   "metadata": {
    "colab_type": "text",
    "id": "vwneMNSeysu7"
   },
   "source": [
    "# Use of the test set \n",
    "\n",
    "We will now use a *kNN* classifier using the best parameters. We will create a pipeline and call the `score` method with the **test set**. We will do the same with *SVM* and *RF*"
   ]
  },
  {
   "cell_type": "code",
   "execution_count": 37,
   "metadata": {
    "colab": {},
    "colab_type": "code",
    "id": "zwpXbSC6ysOF"
   },
   "outputs": [
    {
     "name": "stdout",
     "output_type": "stream",
     "text": [
      "KNN\n",
      "Accuracy in the training set: 99.97%\n",
      "Accuracy in the test set: 92.03%\n",
      "\n",
      "R^2 in the training set after scaling: 1.00\n",
      "R^2 in the test set after scaling: 0.92\n"
     ]
    }
   ],
   "source": [
    "    \n",
    "\n",
    "from sklearn.pipeline import Pipeline\n",
    "\n",
    "print('KNN')\n",
    "#1.\n",
    "knn = KNeighborsClassifier(n_neighbors=10, weights='distance') # instantiate object\n",
    "knn.fit(x_train, y_train) # train\n",
    "predicted_y_test = knn.predict(x_test) # predict\n",
    "acc_train_set = knn.score(x_train, y_train) # evaluate \n",
    "acc_test_set = knn.score(x_test, y_test) # evaluate\n",
    "print(\"Accuracy in the training set: {0:.2f}%\".format(acc_train_set*100.))\n",
    "print(\"Accuracy in the test set: {0:.2f}%\".format(acc_test_set*100.))\n",
    "\n",
    "#2.\n",
    "pipe = Pipeline([('scaler', StandardScaler()), \n",
    "                 ('kNN', KNeighborsClassifier(n_neighbors=10, weights='distance'))])\n",
    "\n",
    "#3.\n",
    "pipe.fit(x_train_original, y_train_original)\n",
    "\n",
    "#4.\n",
    "train_risk = pipe.score(x_train_original, y_train_original)\n",
    "test_risk = pipe.score(x_test_original, y_test_original)\n",
    "print(\"\\nR^2 in the training set after scaling: {0:.2f}\".format(train_risk))\n",
    "print(\"R^2 in the test set after scaling: {0:.2f}\".format(test_risk))\n",
    "\n"
   ]
  },
  {
   "cell_type": "code",
   "execution_count": 38,
   "metadata": {},
   "outputs": [
    {
     "name": "stdout",
     "output_type": "stream",
     "text": [
      "Random Forest\n",
      "Accuracy in the training set: 95.25%\n",
      "Accuracy in the test set: 93.70%\n",
      "\n",
      "R^2 in the training set after scaling: 0.95\n",
      "R^2 in the test set after scaling: 0.94\n"
     ]
    }
   ],
   "source": [
    "print('Random Forest')\n",
    "#1.\n",
    "rf = RandomForestClassifier(max_leaf_nodes=50, n_estimators=1000) # instantiate object\n",
    "rf.fit(x_train, y_train) # train\n",
    "predicted_y_test = rf.predict(x_test) # predict\n",
    "acc_train_set = rf.score(x_train, y_train) # evaluate \n",
    "acc_test_set = rf.score(x_test, y_test) # evaluate\n",
    "print(\"Accuracy in the training set: {0:.2f}%\".format(acc_train_set*100.))\n",
    "print(\"Accuracy in the test set: {0:.2f}%\".format(acc_test_set*100.))\n",
    "\n",
    "#2.\n",
    "pipe = Pipeline([('scaler', StandardScaler()), \n",
    "                 ('RandomForest', RandomForestClassifier(max_leaf_nodes=50, n_estimators=1000))])\n",
    "\n",
    "#3.\n",
    "pipe.fit(x_train, y_train)\n",
    "\n",
    "#4.\n",
    "train_risk = pipe.score(x_train, y_train)\n",
    "test_risk = pipe.score(x_test, y_test)\n",
    "print(\"\\nR^2 in the training set after scaling: {0:.2f}\".format(train_risk))\n",
    "print(\"R^2 in the test set after scaling: {0:.2f}\".format(test_risk))\n"
   ]
  },
  {
   "cell_type": "code",
   "execution_count": 39,
   "metadata": {},
   "outputs": [
    {
     "name": "stdout",
     "output_type": "stream",
     "text": [
      "SVC\n",
      "Accuracy in the training set: 95.59%\n",
      "Accuracy in the test set: 94.50%\n",
      "\n",
      "R^2 in the training set after scaling: 0.96\n",
      "R^2 in the test set after scaling: 0.94\n"
     ]
    }
   ],
   "source": [
    "print('SVC')\n",
    "#1.\n",
    "svc = SVC(gamma = best_gamma, C=best_C) # instantiate object\n",
    "svc.fit(x_train, y_train) # train\n",
    "predicted_y_test = svc.predict(x_test) # predict\n",
    "acc_train_set = svc.score(x_train, y_train) # evaluate \n",
    "acc_test_set = svc.score(x_test, y_test) # evaluate\n",
    "print(\"Accuracy in the training set: {0:.2f}%\".format(acc_train_set*100.))\n",
    "print(\"Accuracy in the test set: {0:.2f}%\".format(acc_test_set*100.))\n",
    "\n",
    "#2.\n",
    "pipe = Pipeline([('scaler', StandardScaler()), \n",
    "                 ('RandomForest', SVC(gamma = best_gamma, C=best_C))])\n",
    "\n",
    "#3.\n",
    "pipe.fit(x_train, y_train)\n",
    "\n",
    "#4.\n",
    "train_risk = pipe.score(x_train, y_train)\n",
    "test_risk = pipe.score(x_test, y_test)\n",
    "print(\"\\nR^2 in the training set after scaling: {0:.2f}\".format(train_risk))\n",
    "print(\"R^2 in the test set after scaling: {0:.2f}\".format(test_risk))\n",
    "    \n",
    "    "
   ]
  },
  {
   "cell_type": "markdown",
   "metadata": {
    "colab_type": "text",
    "id": "SDAuTjAXmQ3z"
   },
   "source": [
    "## Alternative measures of performance: Precision and Recall \n",
    "\n",
    "The spam email detection is a probem in which the misclassifications bear different consequences depending on the true class of the observation:\n",
    "\n",
    "\n",
    "In a general binary classification problem each class receives a name: \n",
    "- positive: the class you want to detect. The observations in this class show a common pattern.\n",
    "- negative: the class formed by the other observations that do not show that pattern.\n",
    "\n",
    "Once each class is casted onto positive and negative, the outcome of a classifier trained to separate these two classes can be grouped into these 4 categories:\n",
    "- **true positive** observations whose true class is the positive one and are correctly classified\n",
    "- **true negative** observations whose true class is the negative one and are correctly classified\n",
    "- **false positive** observations whose true class is the negative one and are incorrectly classified (the classifiers says they are positive, thus false positive)\n",
    "- **false negative** observations whose true class is the positive one and are incorrectly classified (the classifiers says they are negative, thus false negative)\n",
    "\n",
    "\n",
    "We will use [precision and recall](https://en.wikipedia.org/wiki/Precision_and_recall) as alternative methods to find the best model.\n",
    "\n"
   ]
  },
  {
   "cell_type": "markdown",
   "metadata": {
    "colab": {},
    "colab_type": "code",
    "id": "hRKBdM7ekWoF"
   },
   "source": [
    "## Using the best *hyperparameters* in our models.\n",
    "\n",
    "We will decide the $spam$ to play the role of $-1$ and the $+1$ to correspond to $not spam$\n",
    "\n",
    "The best hyperparameters for $SVM$ are {'C': 10, 'gamma': 0.1}\n",
    "\n",
    "The best hyperparameters for $kNN$ are {'n_neighbors': 10, 'weights': 'distance'}\n",
    "\n",
    "The best hyperparameters for $Random Forest$ are  {'max_leaf_nodes': 50, 'n_estimators': 50}"
   ]
  },
  {
   "cell_type": "code",
   "execution_count": 75,
   "metadata": {},
   "outputs": [
    {
     "name": "stdout",
     "output_type": "stream",
     "text": [
      "SVC: precision 0.9454720151121441 recall 0.9412372711830794\n",
      "kNN: precision 0.9217560686537027 recall 0.9142211386740475\n",
      "RF: precision 0.9453803681518845 recall 0.9385255266130353\n"
     ]
    }
   ],
   "source": [
    "from sklearn.preprocessing import StandardScaler\n",
    "\n",
    "ss = StandardScaler()\n",
    "\n",
    "x_train = ss.fit_transform(x_train)\n",
    "x_test = ss.transform(x_test)\n",
    "\n",
    "\n",
    "from sklearn.model_selection import GridSearchCV\n",
    "from sklearn.neighbors import KNeighborsClassifier\n",
    "from sklearn.ensemble import RandomForestClassifier\n",
    "from sklearn.svm import SVC\n",
    "\n",
    "from sklearn.pipeline import make_pipeline\n",
    "\n",
    "svc = SVC(gamma = 0.002976351441631319, C=100.0) # instantiate object\n",
    "svc.fit(x_train, y_train) # train\n",
    "predicted_y_test_svc = svc.predict(x_test) # predict\n",
    "\n",
    "\n",
    "knn = KNeighborsClassifier(n_neighbors=10, weights='distance') # instantiate object\n",
    "knn.fit(x_train, y_train) # train\n",
    "predicted_y_test_knn = knn.predict(x_test) # predict\n",
    "\n",
    "\n",
    "rf = RandomForestClassifier(max_leaf_nodes=50, n_estimators=50) # instantiate object\n",
    "rf.fit(x_train, y_train) # train\n",
    "predicted_y_test_rf = rf.predict(x_test) # predict\n",
    "\n",
    "# once we obtain the predictions, we will find the precision and recall\n",
    "from sklearn.metrics import precision_score\n",
    "precision_svc = precision_score(y_test, predicted_y_test_svc, average='macro')\n",
    "precision_knn = precision_score(y_test, predicted_y_test_knn, average='macro')\n",
    "precision_rf = precision_score(y_test, predicted_y_test_rf, average='macro')\n",
    "\n",
    "from sklearn.metrics import recall_score\n",
    "recall_svc = recall_score(y_test, predicted_y_test_svc, average='macro')\n",
    "recall_knn = recall_score(y_test, predicted_y_test_knn, average='macro')\n",
    "recall_rf = recall_score(y_test, predicted_y_test_rf, average='macro')\n",
    "\n",
    "print('SVC: precision {} recall {}'.format(precision_svc, recall_svc))\n",
    "print('kNN: precision {} recall {}'.format(precision_knn, recall_knn))\n",
    "print('RF: precision {} recall {}'.format(precision_rf, recall_rf))\n"
   ]
  },
  {
   "cell_type": "markdown",
   "metadata": {},
   "source": [
    "Seeing as $precision$ is the fraction of relevant instances among the all the instances, while $recall$ is the fraction of the total amount of relevant instances that were actually retrieved. As it can be noted, all these classifiers have high precision and recall, that means the classifier will return many results, with most of them being labeled correctly. \n",
    "\n",
    "> All in all, $SVM$ is the best classifier."
   ]
  },
  {
   "cell_type": "code",
   "execution_count": null,
   "metadata": {},
   "outputs": [],
   "source": []
  }
 ],
 "metadata": {
  "celltoolbar": "Slideshow",
  "colab": {
   "collapsed_sections": [],
   "name": "lab_SVM.ipynb",
   "provenance": []
  },
  "kernelspec": {
   "display_name": "Python 3",
   "language": "python",
   "name": "python3"
  },
  "language_info": {
   "codemirror_mode": {
    "name": "ipython",
    "version": 3
   },
   "file_extension": ".py",
   "mimetype": "text/x-python",
   "name": "python",
   "nbconvert_exporter": "python",
   "pygments_lexer": "ipython3",
   "version": "3.8.5"
  }
 },
 "nbformat": 4,
 "nbformat_minor": 1
}
