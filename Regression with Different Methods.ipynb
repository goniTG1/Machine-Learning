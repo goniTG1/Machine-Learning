{
 "cells": [
  {
   "cell_type": "markdown",
   "metadata": {},
   "source": [
    "# Regression\n"
   ]
  },
  {
   "cell_type": "code",
   "execution_count": 1,
   "metadata": {
    "executionInfo": {
     "elapsed": 535,
     "status": "ok",
     "timestamp": 1602739109157,
     "user": {
      "displayName": "EMILIO PARRADO HERNANDEZ",
      "photoUrl": "https://lh3.googleusercontent.com/a-/AOh14Ghu-OvX6osyVq8b7J4Xa7D7HiZ61sPYwKqgPxyJ=s64",
      "userId": "09506376050266996513"
     },
     "user_tz": -120
    },
    "id": "lXyR3B1-cst0"
   },
   "outputs": [],
   "source": [
    "from IPython.core.display import Image, display"
   ]
  },
  {
   "cell_type": "code",
   "execution_count": 2,
   "metadata": {
    "executionInfo": {
     "elapsed": 704,
     "status": "ok",
     "timestamp": 1602739109761,
     "user": {
      "displayName": "EMILIO PARRADO HERNANDEZ",
      "photoUrl": "https://lh3.googleusercontent.com/a-/AOh14Ghu-OvX6osyVq8b7J4Xa7D7HiZ61sPYwKqgPxyJ=s64",
      "userId": "09506376050266996513"
     },
     "user_tz": -120
    },
    "id": "McTkC40Tcst3"
   },
   "outputs": [],
   "source": [
    "%matplotlib inline\n",
    "%config InlineBackend.figure_format = 'retina'  "
   ]
  },
  {
   "cell_type": "code",
   "execution_count": 3,
   "metadata": {
    "executionInfo": {
     "elapsed": 1137,
     "status": "ok",
     "timestamp": 1602739110623,
     "user": {
      "displayName": "EMILIO PARRADO HERNANDEZ",
      "photoUrl": "https://lh3.googleusercontent.com/a-/AOh14Ghu-OvX6osyVq8b7J4Xa7D7HiZ61sPYwKqgPxyJ=s64",
      "userId": "09506376050266996513"
     },
     "user_tz": -120
    },
    "id": "lopz8Y9Ccst6"
   },
   "outputs": [],
   "source": [
    "\n",
    "import matplotlib.pyplot as plt\n",
    "import numpy as np\n"
   ]
  },
  {
   "cell_type": "markdown",
   "metadata": {
    "id": "ZqqigYrw4WXW"
   },
   "source": [
    "# Diabetes dataset\n",
    "\n",
    "[Diabetes](https://scikit-learn.org/stable/datasets/index.html#diabetes-dataset) is the Dataset we will be using throughout this notebook. It has different variables:\n",
    "\n",
    "\n",
    "- age in years\n",
    "\n",
    "- sex\n",
    "\n",
    "- bmi: body mass index\n",
    "\n",
    "- bp: average blood pressure\n",
    "\n",
    "- six measures taken from the blood of the patient\n",
    "\n",
    "Each variable is already centred and scaled.\n"
   ]
  },
  {
   "cell_type": "code",
   "execution_count": 4,
   "metadata": {
    "colab": {
     "base_uri": "https://localhost:8080/",
     "height": 50
    },
    "executionInfo": {
     "elapsed": 689,
     "status": "ok",
     "timestamp": 1602739112765,
     "user": {
      "displayName": "EMILIO PARRADO HERNANDEZ",
      "photoUrl": "https://lh3.googleusercontent.com/a-/AOh14Ghu-OvX6osyVq8b7J4Xa7D7HiZ61sPYwKqgPxyJ=s64",
      "userId": "09506376050266996513"
     },
     "user_tz": -120
    },
    "id": "aIgJdjQGcst_",
    "outputId": "33f718f3-e855-4d25-f0f8-f8b1e79c26fc"
   },
   "outputs": [
    {
     "name": "stdout",
     "output_type": "stream",
     "text": [
      "442 observations with 10 columns\n",
      "442 targets\n"
     ]
    }
   ],
   "source": [
    "from sklearn.datasets import load_diabetes\n",
    "data = load_diabetes()\n",
    "feature_names = data['feature_names'] # list with feature names\n",
    "\n",
    "X = data['data']\n",
    "Y = data['target']\n",
    "print(\"{0:d} observations with {1:d} columns\".format(X.shape[0], X.shape[1]))\n",
    "print(\"{0:d} targets\".format(len(Y)))\n"
   ]
  },
  {
   "cell_type": "markdown",
   "metadata": {
    "id": "jvtbdKOMohFY"
   },
   "source": [
    "# Feature selection\n",
    "\n",
    "\n",
    "We want to tell if any of the variables are noisy, not relevant and see which ones are more critical than the others.\n"
   ]
  },
  {
   "cell_type": "markdown",
   "metadata": {
    "id": "H6S-oH-NiGb0"
   },
   "source": [
    "# Regression methods\n",
    "\n",
    "We will use several methods for this task: \n",
    "\n",
    "> [Random Forest (regression)](https://scikit-learn.org/stable/modules/generated/sklearn.ensemble.RandomForestRegressor.html)\n",
    "\n",
    "> [Knn (regression)](https://scikit-learn.org/stable/modules/generated/sklearn.neighbors.KNeighborsRegressor.html)\n",
    "\n",
    "> [Linear regression](https://scikit-learn.org/stable/modules/generated/sklearn.linear_model.LinearRegression.html)\n",
    "\n",
    "> [Kernel ridge regression with RBF kernel](https://scikit-learn.org/stable/modules/generated/sklearn.kernel_ridge.KernelRidge.html)\n",
    "\n"
   ]
  },
  {
   "cell_type": "markdown",
   "metadata": {
    "id": "VfnVp6kbqHOq"
   },
   "source": [
    "# Measure performances\n",
    "\n",
    "We will use **cross-validation** as well as $R^2$ to measure the performance"
   ]
  },
  {
   "cell_type": "markdown",
   "metadata": {
    "id": "cXO0yIutsC_M"
   },
   "source": [
    "# 1. Selection of hyperparameters for all the methods\n",
    "\n",
    "\n",
    "We will obtain a reasonable set of *hyperparameters* for all the methods. For each method, we will use the following estimations of the initial parameters:\n",
    "\n",
    "- Random Forests:\n",
    "  - number of trees: 10, 20, 50, 100, 200, 500, 1000\n",
    "- $k$NN:\n",
    "  - $k$: 1,2,3,5,7,10,15,20,40, 80\n",
    "  - weight: uniform and distance\n",
    "- Ridge regression:\n",
    "  - `alpha`: 0.001, 0.01, 0.1, 1\n",
    "\n",
    "- Kernel ridge regression:\n",
    "  - `alpha`: 0.001, 0.01, 0.1, 1\n",
    "  - `gamma` for the RBF kernel: 0.01, 0.02, 0.05, 0.1, 0.2, 0.5, 1\n",
    "\n"
   ]
  },
  {
   "cell_type": "code",
   "execution_count": 5,
   "metadata": {
    "executionInfo": {
     "elapsed": 511,
     "status": "ok",
     "timestamp": 1602739153298,
     "user": {
      "displayName": "EMILIO PARRADO HERNANDEZ",
      "photoUrl": "https://lh3.googleusercontent.com/a-/AOh14Ghu-OvX6osyVq8b7J4Xa7D7HiZ61sPYwKqgPxyJ=s64",
      "userId": "09506376050266996513"
     },
     "user_tz": -120
    },
    "id": "Br5z4rHsSN_0"
   },
   "outputs": [],
   "source": [
    "from sklearn.pipeline import Pipeline\n",
    "from sklearn.ensemble import RandomForestRegressor\n",
    "from sklearn.neighbors import KNeighborsRegressor\n",
    "from sklearn.linear_model import Ridge\n",
    "from sklearn.kernel_ridge import KernelRidge\n",
    "\n",
    "def my_grid(clf, parameters_clf):\n",
    "    # clf is an estimator\n",
    "    # parameters_clf is a dictionary with parameters in the GridSearchCV way\n",
    "    # that is, the keys must look like 'clf__parameter_name'\n",
    "    v_scaler = ['passthrough', StandardScaler()]\n",
    "    parameters_pipeline = {'scaler':v_scaler}\n",
    "    main_parameters = {'clf':[clf]}\n",
    "\n",
    "    # add the dictionary with the scaler part to the main_parameters dictionary\n",
    "    main_parameters.update(parameters_pipeline)\n",
    "    \n",
    "    # add parameters_clf to the  main_parameters dictionary\n",
    "    main_parameters.update(parameters_clf)\n",
    "  \n",
    "    pipe = Pipeline([('scaler', StandardScaler()), ('clf', clf)])        \n",
    "  \n",
    "    # construct a grid with the pipeline and the main_parameters\n",
    "    grid = GridSearchCV(pipe, main_parameters, cv = 5, iid = False)\n",
    "    \n",
    "    return grid\n",
    "\n"
   ]
  },
  {
   "cell_type": "markdown",
   "metadata": {
    "id": "g2Rzxbyt05ve"
   },
   "source": [
    "## Find hyperparameters\n",
    "\n",
    "We will now use the function above to find hyperparameters for **RF**, **kNN**, **ridge regression** and **kernel ridge regression**. \n"
   ]
  },
  {
   "cell_type": "code",
   "execution_count": 6,
   "metadata": {
    "colab": {
     "base_uri": "https://localhost:8080/",
     "height": 121
    },
    "executionInfo": {
     "elapsed": 1120,
     "status": "ok",
     "timestamp": 1602739155108,
     "user": {
      "displayName": "EMILIO PARRADO HERNANDEZ",
      "photoUrl": "https://lh3.googleusercontent.com/a-/AOh14Ghu-OvX6osyVq8b7J4Xa7D7HiZ61sPYwKqgPxyJ=s64",
      "userId": "09506376050266996513"
     },
     "user_tz": -120
    },
    "id": "4RGN-OAyj5T3",
    "outputId": "ee047649-2b8b-4e60-9031-2bfb9b4847be"
   },
   "outputs": [
    {
     "name": "stderr",
     "output_type": "stream",
     "text": [
      "/Users/goni/opt/anaconda3/lib/python3.8/site-packages/sklearn/model_selection/_search.py:847: FutureWarning: The parameter 'iid' is deprecated in 0.22 and will be removed in 0.24.\n",
      "  warnings.warn(\n",
      "/Users/goni/opt/anaconda3/lib/python3.8/site-packages/sklearn/model_selection/_search.py:847: FutureWarning: The parameter 'iid' is deprecated in 0.22 and will be removed in 0.24.\n",
      "  warnings.warn(\n",
      "/Users/goni/opt/anaconda3/lib/python3.8/site-packages/sklearn/model_selection/_search.py:847: FutureWarning: The parameter 'iid' is deprecated in 0.22 and will be removed in 0.24.\n",
      "  warnings.warn(\n",
      "/Users/goni/opt/anaconda3/lib/python3.8/site-packages/sklearn/model_selection/_search.py:847: FutureWarning: The parameter 'iid' is deprecated in 0.22 and will be removed in 0.24.\n",
      "  warnings.warn(\n"
     ]
    }
   ],
   "source": [
    "from sklearn.preprocessing import StandardScaler\n",
    "from sklearn.model_selection import GridSearchCV\n",
    "\n",
    "knn_params = {\n",
    "    'clf__n_neighbors' : [1,2,3,5,7,10,15,20,40, 80],\n",
    "    'clf__weights' : ['uniform' , 'distance']\n",
    "}\n",
    "rf_params = {\n",
    "    'clf__n_estimators' : [10, 20, 50, 100, 200, 500, 1000],\n",
    "    'clf__max_leaf_nodes' : [5, 10, 20, 50]\n",
    "}\n",
    "ridge_regression_params = {\n",
    "    'clf__alpha' : [0.001, 0.01, 0.1, 1],\n",
    "}\n",
    "kernel_ridge_regression_params = {\n",
    "    'clf__alpha' : [0.001, 0.01, 0.1, 1],\n",
    "    'clf__gamma' : [ 0.01, 0.02, 0.05, 0.1, 0.2, 0.5, 1]\n",
    "}\n",
    "\n",
    "\n",
    "my_knn_grid = my_grid(KNeighborsRegressor(), knn_params)\n",
    "grid_knn_results = my_knn_grid.fit(X, Y).best_params_\n",
    "\n",
    "my_rf_grid = my_grid(RandomForestRegressor(), rf_params)\n",
    "grid_rf_results = my_rf_grid.fit(X, Y).best_params_\n",
    "\n",
    "my_ridge_reg_grid = my_grid(Ridge(), ridge_regression_params)\n",
    "grid_ridge_reg_results = my_ridge_reg_grid.fit(X, Y).best_params_\n",
    "\n",
    "my_kernel_ridge_grid = my_grid(KernelRidge(),kernel_ridge_regression_params)\n",
    "grid_kernel_ridge_results = my_kernel_ridge_grid.fit(X, Y).best_params_\n"
   ]
  },
  {
   "cell_type": "code",
   "execution_count": 7,
   "metadata": {},
   "outputs": [
    {
     "name": "stdout",
     "output_type": "stream",
     "text": [
      "{'clf': KNeighborsRegressor(n_neighbors=15, weights='distance'), 'clf__n_neighbors': 15, 'clf__weights': 'distance', 'scaler': StandardScaler()}\n",
      "{'clf': RandomForestRegressor(max_leaf_nodes=20, n_estimators=200), 'clf__max_leaf_nodes': 20, 'clf__n_estimators': 200, 'scaler': StandardScaler()}\n",
      "{'clf': Ridge(alpha=0.1), 'clf__alpha': 0.1, 'scaler': StandardScaler()}\n",
      "{'clf': KernelRidge(alpha=0.001, gamma=0.01), 'clf__alpha': 0.001, 'clf__gamma': 0.01, 'scaler': StandardScaler()}\n"
     ]
    }
   ],
   "source": [
    "print(grid_knn_results)\n",
    "print(grid_rf_results)\n",
    "print(grid_ridge_reg_results)\n",
    "print(grid_kernel_ridge_results)\n"
   ]
  },
  {
   "cell_type": "markdown",
   "metadata": {
    "id": "mgbEmNG_2O0o"
   },
   "source": [
    "**Average and standard deviation of the score $R^2$ achieved by each method with its better hyperparameters**"
   ]
  },
  {
   "cell_type": "code",
   "execution_count": 9,
   "metadata": {},
   "outputs": [
    {
     "name": "stdout",
     "output_type": "stream",
     "text": [
      "KNN:\n",
      "\n",
      "R2 mean:  0.4521036806793365\n",
      "R2 standard deviation:  0.0588063911194236\n"
     ]
    }
   ],
   "source": [
    "from sklearn.model_selection import cross_val_score\n",
    "\n",
    "print('KNN:\\n')\n",
    "neigh = KNeighborsRegressor(n_neighbors= 15, weights= 'distance')\n",
    "neigh.fit(X, Y)\n",
    "scores = cross_val_score(neigh, X, Y, cv=5)\n",
    "print('R2 mean: ',scores.mean())\n",
    "print('R2 standard deviation: ',scores.std())"
   ]
  },
  {
   "cell_type": "code",
   "execution_count": 10,
   "metadata": {},
   "outputs": [
    {
     "name": "stdout",
     "output_type": "stream",
     "text": [
      "Random forest:\n",
      "\n",
      "R2 mean:  0.43796627586184655\n",
      "R2 standard deviation:  0.0650614444305181\n"
     ]
    }
   ],
   "source": [
    "print('Random forest:\\n')\n",
    "rf = RandomForestRegressor(max_leaf_nodes= 10, n_estimators=20)\n",
    "f = rf.fit(X, Y)\n",
    "scores = cross_val_score(rf, X, Y, cv=5)\n",
    "print('R2 mean: ',scores.mean())\n",
    "print('R2 standard deviation: ',scores.std())"
   ]
  },
  {
   "cell_type": "code",
   "execution_count": 11,
   "metadata": {},
   "outputs": [
    {
     "name": "stdout",
     "output_type": "stream",
     "text": [
      "Ridge regression:\n",
      "\n",
      "R2 mean:  0.47988368563401884\n",
      "R2 standard deviation:  0.047263511492239285\n"
     ]
    }
   ],
   "source": [
    "print('Ridge regression:\\n')\n",
    "linear = Ridge(alpha = 0.1)\n",
    "f = linear.fit(X, Y)\n",
    "scores = cross_val_score(linear, X, Y, cv=5)\n",
    "print('R2 mean: ',scores.mean())\n",
    "print('R2 standard deviation: ',scores.std())"
   ]
  },
  {
   "cell_type": "code",
   "execution_count": 12,
   "metadata": {},
   "outputs": [
    {
     "name": "stdout",
     "output_type": "stream",
     "text": [
      "R2 mean:  -3.787429826175886\n",
      "R2 standard deviation:  0.6789174682862079\n"
     ]
    }
   ],
   "source": [
    "\n",
    "kernel_ridge = KernelRidge(alpha = 0.001, gamma=0.01)\n",
    "f = kernel_ridge.fit(X, Y)\n",
    "scores = cross_val_score(kernel_ridge, X, Y, cv=5)\n",
    "print('R2 mean: ',scores.mean())\n",
    "print('R2 standard deviation: ',scores.std())"
   ]
  },
  {
   "cell_type": "markdown",
   "metadata": {
    "id": "RLKQygGXmp67"
   },
   "source": [
    "## Measures of training and evaluation time\n",
    "\n",
    "We will now use the function `cross_validate` to obtain the estimations of the time needed to train each method and evaluate a test set.\n"
   ]
  },
  {
   "cell_type": "code",
   "execution_count": 16,
   "metadata": {
    "colab": {
     "base_uri": "https://localhost:8080/",
     "height": 269
    },
    "executionInfo": {
     "elapsed": 14517,
     "status": "ok",
     "timestamp": 1602683897015,
     "user": {
      "displayName": "EMILIO PARRADO HERNANDEZ",
      "photoUrl": "https://lh3.googleusercontent.com/a-/AOh14Ghu-OvX6osyVq8b7J4Xa7D7HiZ61sPYwKqgPxyJ=s64",
      "userId": "09506376050266996513"
     },
     "user_tz": -120
    },
    "id": "1K0dG230qnET",
    "outputId": "40d38eb2-b0e6-46d5-8427-eead0a0e40b2"
   },
   "outputs": [],
   "source": [
    "from sklearn.model_selection import cross_validate\n",
    "neigh = KNeighborsRegressor(n_neighbors= 15, weights= 'distance')\n",
    "rf = RandomForestRegressor(max_leaf_nodes= 20, n_estimators=100)\n",
    "linear = Ridge(alpha = 0.1)\n",
    "kernel_ridge = KernelRidge(alpha = 0.001, gamma=0.01)\n",
    "\n",
    "cv_results_knn = cross_validate(neigh, X, Y, cv=10)\n",
    "cv_results_rf = cross_validate(rf, X, Y, cv=10)\n",
    "cv_results_linear = cross_validate(linear, X, Y, cv=10)\n",
    "cv_results_kernel_ridge = cross_validate(kernel_ridge, X, Y, cv=10)\n"
   ]
  },
  {
   "cell_type": "code",
   "execution_count": 17,
   "metadata": {},
   "outputs": [
    {
     "name": "stdout",
     "output_type": "stream",
     "text": [
      "\n",
      "KNN time results:\n",
      "test_score: 0.4201823709196013\n",
      "fit_time: 0.0007848739624023438\n",
      "score_time: 0.0016630887985229492\n",
      "\n",
      "RF time results:\n",
      "test_score: 0.41356970069114685\n",
      "fit_time: 0.11303291320800782\n",
      "score_time: 0.00340118408203125\n",
      "\n",
      "Linear time results:\n",
      "test_score: 0.4633240541517593\n",
      "fit_time: 0.0002598762512207031\n",
      "score_time: 0.0001466989517211914\n",
      "\n",
      "Kernel Ridge time results:\n",
      "test_score: -3.942208022743601\n",
      "fit_time: 0.00255887508392334\n",
      "score_time: 0.00033500194549560545\n"
     ]
    }
   ],
   "source": [
    "print('\\nKNN time results:')#, cv_results_knn)\n",
    "test_knn = np.mean(cv_results_knn['test_score'])\n",
    "fit_time_knn = np.mean(cv_results_knn['fit_time'])\n",
    "score_time_knn = np.mean(cv_results_knn['score_time'])\n",
    "print('test_score:', test_knn)\n",
    "print('fit_time:', fit_time_knn)\n",
    "print('score_time:', score_time_knn)\n",
    "\n",
    "\n",
    "print('\\nRF time results:')#, cv_results_rf)\n",
    "test_rf = np.mean(cv_results_rf['test_score'])\n",
    "fit_time_rf = np.mean(cv_results_rf['fit_time'])\n",
    "score_time_rf = np.mean(cv_results_rf['score_time'])\n",
    "print('test_score:', test_rf)\n",
    "print('fit_time:',fit_time_rf)\n",
    "print('score_time:', score_time_rf)\n",
    "\n",
    "\n",
    "print('\\nLinear time results:')#, cv_results_linear)\n",
    "test_lin = np.mean(cv_results_linear['test_score'])\n",
    "fit_time_lin = np.mean(cv_results_linear['fit_time'])\n",
    "score_time_lin = np.mean(cv_results_linear['score_time'])\n",
    "print('test_score:', test_lin)\n",
    "print('fit_time:', fit_time_lin)\n",
    "print('score_time:', score_time_lin)\n",
    "\n",
    "\n",
    "print('\\nKernel Ridge time results:')#, cv_results_kernel_ridge)\n",
    "test_kernel_ridge = np.mean(cv_results_kernel_ridge['test_score'])\n",
    "fit_time_kernel_ridge = np.mean(cv_results_kernel_ridge['fit_time'])\n",
    "score_time_kernel_ridge = np.mean(cv_results_kernel_ridge['score_time'])\n",
    "print('test_score:', test_kernel_ridge)\n",
    "print('fit_time:', fit_time_kernel_ridge)\n",
    "print('score_time:', score_time_kernel_ridge)\n"
   ]
  },
  {
   "cell_type": "markdown",
   "metadata": {
    "id": "wfrC7gHpxeJb"
   },
   "source": [
    "## Visual representation\n",
    "\n",
    "Now a plot of the data will be created to give a different approach.\n"
   ]
  },
  {
   "cell_type": "code",
   "execution_count": 20,
   "metadata": {},
   "outputs": [],
   "source": [
    "r_squared = [test_knn, test_rf, test_lin, test_kernel_ridge]\n",
    "time_fit = [fit_time_knn, fit_time_rf, fit_time_lin, fit_time_kernel_ridge]\n",
    "time_score = [score_time_knn, score_time_rf, score_time_lin, score_time_kernel_ridge]"
   ]
  },
  {
   "cell_type": "code",
   "execution_count": 23,
   "metadata": {
    "colab": {
     "base_uri": "https://localhost:8080/",
     "height": 404
    },
    "executionInfo": {
     "elapsed": 1276,
     "status": "ok",
     "timestamp": 1602690159115,
     "user": {
      "displayName": "EMILIO PARRADO HERNANDEZ",
      "photoUrl": "https://lh3.googleusercontent.com/a-/AOh14Ghu-OvX6osyVq8b7J4Xa7D7HiZ61sPYwKqgPxyJ=s64",
      "userId": "09506376050266996513"
     },
     "user_tz": -120
    },
    "id": "ns1oiza-Wxax",
    "outputId": "bf054676-87fd-4caf-8d61-d843d58fac98"
   },
   "outputs": [
    {
     "data": {
      "image/png": "[encoded data removed]",
      "text/plain": [
       "<Figure size 864x864 with 2 Axes>"
      ]
     },
     "metadata": {
      "image/png": {
       "height": 452,
       "width": 851
      },
      "needs_background": "light"
     },
     "output_type": "display_data"
    }
   ],
   "source": [
    "import matplotlib.pyplot as plt\n",
    "\n",
    "\n",
    "# we can see a scatter plot of the performance of the methods compared with the time to fit, as well as a \n",
    "# comparison between the time to fit and the R^2.\n",
    "\n",
    "fig = plt.figure(figsize=(12,12))\n",
    "\n",
    "plt.subplot(2, 2, 1)\n",
    "\n",
    "colors = ['b', 'r', 'y', 'm', 'g']\n",
    "first_point_a = plt.scatter(time_fit[0], r_squared[0], marker='o', color=colors[0])\n",
    "second_point_a = plt.scatter(time_fit[1], r_squared[1], marker='o', color=colors[1])\n",
    "third_point_a  = plt.scatter(time_fit[2], r_squared[2], marker='o', color=colors[2])\n",
    "fourth_point_a  = plt.scatter(time_fit[3], r_squared[3], marker='o', color=colors[3])\n",
    "plt.legend((first_point_a, second_point_a, third_point_a, fourth_point_a),\n",
    "           ('$knn$', '$Random Forest$', '$Linear$', '$Kernel Ridge$'),scatterpoints=1,loc='lower right',\n",
    "           ncol=2,fontsize=12)\n",
    "plt.xlabel('Time to fit')\n",
    "plt.ylabel('$R_2$')\n",
    "plt.title('Time to fit vs $R_2$')\n",
    "plt.grid()\n",
    "\n",
    "\n",
    "plt.subplot(2, 2, 2)\n",
    "colors = ['b', 'r', 'y', 'm', 'g']\n",
    "first_point_b = plt.scatter(time_score[0], r_squared[0], marker='o', color=colors[0])\n",
    "second_point_b = plt.scatter(time_score[1], r_squared[1], marker='o', color=colors[1])\n",
    "third_point_b  = plt.scatter(time_score[2], r_squared[2], marker='o', color=colors[2])\n",
    "fourth_point_b  = plt.scatter(time_score[3], r_squared[3], marker='o', color=colors[3])\n",
    "plt.legend((first_point_b, second_point_b, third_point_b, fourth_point_b),\n",
    "           ('$knn$', '$Random Forest$', '$Linear$', '$Kernel Ridge$'),scatterpoints=1,loc='lower right',\n",
    "           ncol=2,fontsize=12)\n",
    "plt.xlabel('Score time')\n",
    "plt.ylabel('$R_2$')\n",
    "plt.title('Score time vs $R_2$')\n",
    "plt.xlim(0, 0.0125)\n",
    "plt.grid()\n",
    "\n",
    "fig.tight_layout() \n",
    "\n",
    "plt.show()"
   ]
  },
  {
   "cell_type": "markdown",
   "metadata": {
    "id": "T4W42EF4yHiH"
   },
   "source": [
    "\n",
    "## Advantages and disadvantages of each method\n",
    "\n",
    "**Linear and knn:** These methods are really close to each other in both graphs, with them we obtain the fastest time with the higher value of $R_2$.\n",
    "\n",
    "\n",
    "**Random Forest:** This method has the highest value of the score time and the value of $R_2$ is not that good.\n",
    "\n",
    "\n",
    "**Kernel Ridge:** It has a low time for both fit and score, and it has a negative value of $R_2$.\n",
    "\n"
   ]
  },
  {
   "cell_type": "code",
   "execution_count": null,
   "metadata": {},
   "outputs": [],
   "source": []
  }
 ],
 "metadata": {
  "celltoolbar": "Slideshow",
  "colab": {
   "collapsed_sections": [],
   "name": "lab_regression.ipynb",
   "provenance": []
  },
  "kernelspec": {
   "display_name": "Python 3",
   "language": "python",
   "name": "python3"
  },
  "language_info": {
   "codemirror_mode": {
    "name": "ipython",
    "version": 3
   },
   "file_extension": ".py",
   "mimetype": "text/x-python",
   "name": "python",
   "nbconvert_exporter": "python",
   "pygments_lexer": "ipython3",
   "version": "3.8.5"
  }
 },
 "nbformat": 4,
 "nbformat_minor": 4
}
