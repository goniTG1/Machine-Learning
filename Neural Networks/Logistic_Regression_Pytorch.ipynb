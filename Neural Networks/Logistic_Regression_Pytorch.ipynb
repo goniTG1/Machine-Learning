{
 "cells": [
  {
   "cell_type": "markdown",
   "metadata": {
    "id": "d5XTbg_f1r_P"
   },
   "source": [
    "# Logistic Regression with Pytorch\n",
    "\n",
    "\n",
    "\n",
    "Pytorch is a powerful library to address Machine Learning problems. It is provided with automatic differentiation tools. "
   ]
  },
  {
   "cell_type": "code",
   "execution_count": 1,
   "metadata": {
    "id": "mZSYOFbX1r_V"
   },
   "outputs": [],
   "source": [
    "import pandas as pd # pd is simply an alias \n",
    "import numpy as np\n",
    "import matplotlib.pyplot as plt\n",
    "\n",
    "%matplotlib inline \n",
    "%config InlineBackend.figure_format = 'retina' #High quality figures"
   ]
  },
  {
   "cell_type": "markdown",
   "metadata": {
    "id": "xh6RdCg-1r_V"
   },
   "source": [
    "## Pre-processing a real dataset\n",
    "\n",
    "We will be using the [Breast Cancer Wisconsin (Diagnostic) Data Set](https://archive.ics.uci.edu/ml/datasets/Breast+Cancer+Wisconsin+(Diagnostic)), which contains 10 features related to breast tumors that have been diagnosed as benign or malignant. "
   ]
  },
  {
   "cell_type": "code",
   "execution_count": 2,
   "metadata": {
    "id": "Lca2l9kk1r_W"
   },
   "outputs": [],
   "source": [
    "def load_spam():\n",
    "    data = pd.read_csv('https://archive.ics.uci.edu/ml/machine-learning-databases/breast-cancer-wisconsin/breast-cancer-wisconsin.data',header=None)\n",
    "    data.columns=['ID', 'Clump Thickness', 'Uniformity of Cell Size',\n",
    "       'Uniformity of Cell Shape', 'Marginal Adhesion',\n",
    "       'Single Epithelial Cell Size', 'Bare Nuclei', 'Bland Chromatin',\n",
    "       'Normal Nucleoli', 'Mitoses', 'Class']\n",
    "    return data"
   ]
  },
  {
   "cell_type": "code",
   "execution_count": 3,
   "metadata": {
    "id": "zmDrcmp41r_W"
   },
   "outputs": [],
   "source": [
    "''' Data is stored in a Dataframe, a particular data type implemented in Pandas'''\n",
    "\n",
    "data = load_spam()\n"
   ]
  },
  {
   "cell_type": "markdown",
   "metadata": {
    "id": "JY5t0LHC1r_X"
   },
   "source": [
    "Lets visualize the first 10 entries of the database with the `.head()` method"
   ]
  },
  {
   "cell_type": "code",
   "execution_count": 4,
   "metadata": {
    "colab": {
     "base_uri": "https://localhost:8080/",
     "height": 376
    },
    "id": "_3HUYCYc1r_X",
    "outputId": "5231ca81-6f4f-406b-aa76-179f7841d9c3"
   },
   "outputs": [
    {
     "data": {
      "text/html": [
       "<div>\n",
       "<style scoped>\n",
       "    .dataframe tbody tr th:only-of-type {\n",
       "        vertical-align: middle;\n",
       "    }\n",
       "\n",
       "    .dataframe tbody tr th {\n",
       "        vertical-align: top;\n",
       "    }\n",
       "\n",
       "    .dataframe thead th {\n",
       "        text-align: right;\n",
       "    }\n",
       "</style>\n",
       "<table border=\"1\" class=\"dataframe\">\n",
       "  <thead>\n",
       "    <tr style=\"text-align: right;\">\n",
       "      <th></th>\n",
       "      <th>ID</th>\n",
       "      <th>Clump Thickness</th>\n",
       "      <th>Uniformity of Cell Size</th>\n",
       "      <th>Uniformity of Cell Shape</th>\n",
       "      <th>Marginal Adhesion</th>\n",
       "      <th>Single Epithelial Cell Size</th>\n",
       "      <th>Bare Nuclei</th>\n",
       "      <th>Bland Chromatin</th>\n",
       "      <th>Normal Nucleoli</th>\n",
       "      <th>Mitoses</th>\n",
       "      <th>Class</th>\n",
       "    </tr>\n",
       "  </thead>\n",
       "  <tbody>\n",
       "    <tr>\n",
       "      <th>0</th>\n",
       "      <td>1000025</td>\n",
       "      <td>5</td>\n",
       "      <td>1</td>\n",
       "      <td>1</td>\n",
       "      <td>1</td>\n",
       "      <td>2</td>\n",
       "      <td>1</td>\n",
       "      <td>3</td>\n",
       "      <td>1</td>\n",
       "      <td>1</td>\n",
       "      <td>2</td>\n",
       "    </tr>\n",
       "    <tr>\n",
       "      <th>1</th>\n",
       "      <td>1002945</td>\n",
       "      <td>5</td>\n",
       "      <td>4</td>\n",
       "      <td>4</td>\n",
       "      <td>5</td>\n",
       "      <td>7</td>\n",
       "      <td>10</td>\n",
       "      <td>3</td>\n",
       "      <td>2</td>\n",
       "      <td>1</td>\n",
       "      <td>2</td>\n",
       "    </tr>\n",
       "    <tr>\n",
       "      <th>2</th>\n",
       "      <td>1015425</td>\n",
       "      <td>3</td>\n",
       "      <td>1</td>\n",
       "      <td>1</td>\n",
       "      <td>1</td>\n",
       "      <td>2</td>\n",
       "      <td>2</td>\n",
       "      <td>3</td>\n",
       "      <td>1</td>\n",
       "      <td>1</td>\n",
       "      <td>2</td>\n",
       "    </tr>\n",
       "    <tr>\n",
       "      <th>3</th>\n",
       "      <td>1016277</td>\n",
       "      <td>6</td>\n",
       "      <td>8</td>\n",
       "      <td>8</td>\n",
       "      <td>1</td>\n",
       "      <td>3</td>\n",
       "      <td>4</td>\n",
       "      <td>3</td>\n",
       "      <td>7</td>\n",
       "      <td>1</td>\n",
       "      <td>2</td>\n",
       "    </tr>\n",
       "    <tr>\n",
       "      <th>4</th>\n",
       "      <td>1017023</td>\n",
       "      <td>4</td>\n",
       "      <td>1</td>\n",
       "      <td>1</td>\n",
       "      <td>3</td>\n",
       "      <td>2</td>\n",
       "      <td>1</td>\n",
       "      <td>3</td>\n",
       "      <td>1</td>\n",
       "      <td>1</td>\n",
       "      <td>2</td>\n",
       "    </tr>\n",
       "    <tr>\n",
       "      <th>5</th>\n",
       "      <td>1017122</td>\n",
       "      <td>8</td>\n",
       "      <td>10</td>\n",
       "      <td>10</td>\n",
       "      <td>8</td>\n",
       "      <td>7</td>\n",
       "      <td>10</td>\n",
       "      <td>9</td>\n",
       "      <td>7</td>\n",
       "      <td>1</td>\n",
       "      <td>4</td>\n",
       "    </tr>\n",
       "    <tr>\n",
       "      <th>6</th>\n",
       "      <td>1018099</td>\n",
       "      <td>1</td>\n",
       "      <td>1</td>\n",
       "      <td>1</td>\n",
       "      <td>1</td>\n",
       "      <td>2</td>\n",
       "      <td>10</td>\n",
       "      <td>3</td>\n",
       "      <td>1</td>\n",
       "      <td>1</td>\n",
       "      <td>2</td>\n",
       "    </tr>\n",
       "    <tr>\n",
       "      <th>7</th>\n",
       "      <td>1018561</td>\n",
       "      <td>2</td>\n",
       "      <td>1</td>\n",
       "      <td>2</td>\n",
       "      <td>1</td>\n",
       "      <td>2</td>\n",
       "      <td>1</td>\n",
       "      <td>3</td>\n",
       "      <td>1</td>\n",
       "      <td>1</td>\n",
       "      <td>2</td>\n",
       "    </tr>\n",
       "    <tr>\n",
       "      <th>8</th>\n",
       "      <td>1033078</td>\n",
       "      <td>2</td>\n",
       "      <td>1</td>\n",
       "      <td>1</td>\n",
       "      <td>1</td>\n",
       "      <td>2</td>\n",
       "      <td>1</td>\n",
       "      <td>1</td>\n",
       "      <td>1</td>\n",
       "      <td>5</td>\n",
       "      <td>2</td>\n",
       "    </tr>\n",
       "    <tr>\n",
       "      <th>9</th>\n",
       "      <td>1033078</td>\n",
       "      <td>4</td>\n",
       "      <td>2</td>\n",
       "      <td>1</td>\n",
       "      <td>1</td>\n",
       "      <td>2</td>\n",
       "      <td>1</td>\n",
       "      <td>2</td>\n",
       "      <td>1</td>\n",
       "      <td>1</td>\n",
       "      <td>2</td>\n",
       "    </tr>\n",
       "  </tbody>\n",
       "</table>\n",
       "</div>"
      ],
      "text/plain": [
       "        ID  Clump Thickness  ...  Mitoses  Class\n",
       "0  1000025                5  ...        1      2\n",
       "1  1002945                5  ...        1      2\n",
       "2  1015425                3  ...        1      2\n",
       "3  1016277                6  ...        1      2\n",
       "4  1017023                4  ...        1      2\n",
       "5  1017122                8  ...        1      4\n",
       "6  1018099                1  ...        1      2\n",
       "7  1018561                2  ...        1      2\n",
       "8  1033078                2  ...        5      2\n",
       "9  1033078                4  ...        1      2\n",
       "\n",
       "[10 rows x 11 columns]"
      ]
     },
     "execution_count": 4,
     "metadata": {},
     "output_type": "execute_result"
    }
   ],
   "source": [
    "data.head(10)"
   ]
  },
  {
   "cell_type": "markdown",
   "metadata": {
    "id": "F0IclgJL1r_X"
   },
   "source": [
    "We will do some preprocessing steps:\n",
    "\n",
    "- Remove the 'ID' column. \n",
    "\n",
    "- Analyze missing data \n",
    "\n",
    "- The tumor class is equal to 2 for bening tumors and to 4 for malignat tumors. We will replace this by 0 and 1 respectively\n",
    "\n",
    "- Create a train set and a test set\n",
    "\n",
    "- We will normalize all input variables so they all have zero mean and unit variance"
   ]
  },
  {
   "cell_type": "markdown",
   "metadata": {
    "id": "aSGZnrAK1r_Y"
   },
   "source": [
    "### Remove ID colum\n",
    "\n",
    "We can use the `.drop()` method. We use the input `inplace=True` to override the existing Dataframe."
   ]
  },
  {
   "cell_type": "code",
   "execution_count": 5,
   "metadata": {
    "id": "B8-J875r1r_Y"
   },
   "outputs": [],
   "source": [
    "data.drop('ID', axis=1, inplace=True)"
   ]
  },
  {
   "cell_type": "code",
   "execution_count": 6,
   "metadata": {
    "colab": {
     "base_uri": "https://localhost:8080/",
     "height": 376
    },
    "id": "A7Nxzquf1r_Y",
    "outputId": "0d57d59a-9a0e-4875-e8cb-9e4a67f7754d"
   },
   "outputs": [
    {
     "data": {
      "text/html": [
       "<div>\n",
       "<style scoped>\n",
       "    .dataframe tbody tr th:only-of-type {\n",
       "        vertical-align: middle;\n",
       "    }\n",
       "\n",
       "    .dataframe tbody tr th {\n",
       "        vertical-align: top;\n",
       "    }\n",
       "\n",
       "    .dataframe thead th {\n",
       "        text-align: right;\n",
       "    }\n",
       "</style>\n",
       "<table border=\"1\" class=\"dataframe\">\n",
       "  <thead>\n",
       "    <tr style=\"text-align: right;\">\n",
       "      <th></th>\n",
       "      <th>Clump Thickness</th>\n",
       "      <th>Uniformity of Cell Size</th>\n",
       "      <th>Uniformity of Cell Shape</th>\n",
       "      <th>Marginal Adhesion</th>\n",
       "      <th>Single Epithelial Cell Size</th>\n",
       "      <th>Bare Nuclei</th>\n",
       "      <th>Bland Chromatin</th>\n",
       "      <th>Normal Nucleoli</th>\n",
       "      <th>Mitoses</th>\n",
       "      <th>Class</th>\n",
       "    </tr>\n",
       "  </thead>\n",
       "  <tbody>\n",
       "    <tr>\n",
       "      <th>0</th>\n",
       "      <td>5</td>\n",
       "      <td>1</td>\n",
       "      <td>1</td>\n",
       "      <td>1</td>\n",
       "      <td>2</td>\n",
       "      <td>1</td>\n",
       "      <td>3</td>\n",
       "      <td>1</td>\n",
       "      <td>1</td>\n",
       "      <td>2</td>\n",
       "    </tr>\n",
       "    <tr>\n",
       "      <th>1</th>\n",
       "      <td>5</td>\n",
       "      <td>4</td>\n",
       "      <td>4</td>\n",
       "      <td>5</td>\n",
       "      <td>7</td>\n",
       "      <td>10</td>\n",
       "      <td>3</td>\n",
       "      <td>2</td>\n",
       "      <td>1</td>\n",
       "      <td>2</td>\n",
       "    </tr>\n",
       "    <tr>\n",
       "      <th>2</th>\n",
       "      <td>3</td>\n",
       "      <td>1</td>\n",
       "      <td>1</td>\n",
       "      <td>1</td>\n",
       "      <td>2</td>\n",
       "      <td>2</td>\n",
       "      <td>3</td>\n",
       "      <td>1</td>\n",
       "      <td>1</td>\n",
       "      <td>2</td>\n",
       "    </tr>\n",
       "    <tr>\n",
       "      <th>3</th>\n",
       "      <td>6</td>\n",
       "      <td>8</td>\n",
       "      <td>8</td>\n",
       "      <td>1</td>\n",
       "      <td>3</td>\n",
       "      <td>4</td>\n",
       "      <td>3</td>\n",
       "      <td>7</td>\n",
       "      <td>1</td>\n",
       "      <td>2</td>\n",
       "    </tr>\n",
       "    <tr>\n",
       "      <th>4</th>\n",
       "      <td>4</td>\n",
       "      <td>1</td>\n",
       "      <td>1</td>\n",
       "      <td>3</td>\n",
       "      <td>2</td>\n",
       "      <td>1</td>\n",
       "      <td>3</td>\n",
       "      <td>1</td>\n",
       "      <td>1</td>\n",
       "      <td>2</td>\n",
       "    </tr>\n",
       "    <tr>\n",
       "      <th>5</th>\n",
       "      <td>8</td>\n",
       "      <td>10</td>\n",
       "      <td>10</td>\n",
       "      <td>8</td>\n",
       "      <td>7</td>\n",
       "      <td>10</td>\n",
       "      <td>9</td>\n",
       "      <td>7</td>\n",
       "      <td>1</td>\n",
       "      <td>4</td>\n",
       "    </tr>\n",
       "    <tr>\n",
       "      <th>6</th>\n",
       "      <td>1</td>\n",
       "      <td>1</td>\n",
       "      <td>1</td>\n",
       "      <td>1</td>\n",
       "      <td>2</td>\n",
       "      <td>10</td>\n",
       "      <td>3</td>\n",
       "      <td>1</td>\n",
       "      <td>1</td>\n",
       "      <td>2</td>\n",
       "    </tr>\n",
       "    <tr>\n",
       "      <th>7</th>\n",
       "      <td>2</td>\n",
       "      <td>1</td>\n",
       "      <td>2</td>\n",
       "      <td>1</td>\n",
       "      <td>2</td>\n",
       "      <td>1</td>\n",
       "      <td>3</td>\n",
       "      <td>1</td>\n",
       "      <td>1</td>\n",
       "      <td>2</td>\n",
       "    </tr>\n",
       "    <tr>\n",
       "      <th>8</th>\n",
       "      <td>2</td>\n",
       "      <td>1</td>\n",
       "      <td>1</td>\n",
       "      <td>1</td>\n",
       "      <td>2</td>\n",
       "      <td>1</td>\n",
       "      <td>1</td>\n",
       "      <td>1</td>\n",
       "      <td>5</td>\n",
       "      <td>2</td>\n",
       "    </tr>\n",
       "    <tr>\n",
       "      <th>9</th>\n",
       "      <td>4</td>\n",
       "      <td>2</td>\n",
       "      <td>1</td>\n",
       "      <td>1</td>\n",
       "      <td>2</td>\n",
       "      <td>1</td>\n",
       "      <td>2</td>\n",
       "      <td>1</td>\n",
       "      <td>1</td>\n",
       "      <td>2</td>\n",
       "    </tr>\n",
       "  </tbody>\n",
       "</table>\n",
       "</div>"
      ],
      "text/plain": [
       "   Clump Thickness  Uniformity of Cell Size  ...  Mitoses  Class\n",
       "0                5                        1  ...        1      2\n",
       "1                5                        4  ...        1      2\n",
       "2                3                        1  ...        1      2\n",
       "3                6                        8  ...        1      2\n",
       "4                4                        1  ...        1      2\n",
       "5                8                       10  ...        1      4\n",
       "6                1                        1  ...        1      2\n",
       "7                2                        1  ...        1      2\n",
       "8                2                        1  ...        5      2\n",
       "9                4                        2  ...        1      2\n",
       "\n",
       "[10 rows x 10 columns]"
      ]
     },
     "execution_count": 6,
     "metadata": {},
     "output_type": "execute_result"
    }
   ],
   "source": [
    "# Lets check the result\n",
    "\n",
    "data.head(10)"
   ]
  },
  {
   "cell_type": "markdown",
   "metadata": {
    "id": "zp9dRDBn1r_Y"
   },
   "source": [
    "### Missing data\n",
    "\n",
    "Using `apply()` across all of the columns in our DataFrame leads us to figure out which values are missing. But first we  change the `?` missing codification by `NaN`."
   ]
  },
  {
   "cell_type": "code",
   "execution_count": 7,
   "metadata": {
    "id": "zYM80JBa1r_Y"
   },
   "outputs": [],
   "source": [
    "data.replace('?', np.nan, inplace=True)"
   ]
  },
  {
   "cell_type": "code",
   "execution_count": 8,
   "metadata": {
    "id": "-75KOORE1r_Z"
   },
   "outputs": [],
   "source": [
    "empty = data.apply(lambda col: pd.isnull(col))"
   ]
  },
  {
   "cell_type": "code",
   "execution_count": 9,
   "metadata": {
    "colab": {
     "base_uri": "https://localhost:8080/"
    },
    "id": "_AjLZlkr1r_Z",
    "outputId": "5d7ea85f-755f-4b8d-8b01-304d66ddc4a3"
   },
   "outputs": [
    {
     "data": {
      "text/plain": [
       "Clump Thickness                 0\n",
       "Uniformity of Cell Size         0\n",
       "Uniformity of Cell Shape        0\n",
       "Marginal Adhesion               0\n",
       "Single Epithelial Cell Size     0\n",
       "Bare Nuclei                    16\n",
       "Bland Chromatin                 0\n",
       "Normal Nucleoli                 0\n",
       "Mitoses                         0\n",
       "Class                           0\n",
       "dtype: int64"
      ]
     },
     "execution_count": 9,
     "metadata": {},
     "output_type": "execute_result"
    }
   ],
   "source": [
    "empty.sum()"
   ]
  },
  {
   "cell_type": "markdown",
   "metadata": {
    "id": "dEgujMKw1r_Z"
   },
   "source": [
    "Observe that only one of the columns has 16 missing entries. For simplicity, let's remove this column. Be aware that in general we will impute missing data with some representative value. "
   ]
  },
  {
   "cell_type": "code",
   "execution_count": 10,
   "metadata": {
    "id": "Sx3wKftq1r_Z"
   },
   "outputs": [],
   "source": [
    "data.drop('Bare Nuclei', axis=1, inplace=True)"
   ]
  },
  {
   "cell_type": "code",
   "execution_count": 11,
   "metadata": {
    "colab": {
     "base_uri": "https://localhost:8080/"
    },
    "id": "ASjr_-_k1r_Z",
    "outputId": "eb2bdbab-2837-445a-9796-3ab5b9cb3e5d",
    "scrolled": true
   },
   "outputs": [
    {
     "data": {
      "text/plain": [
       "Clump Thickness                0\n",
       "Uniformity of Cell Size        0\n",
       "Uniformity of Cell Shape       0\n",
       "Marginal Adhesion              0\n",
       "Single Epithelial Cell Size    0\n",
       "Bland Chromatin                0\n",
       "Normal Nucleoli                0\n",
       "Mitoses                        0\n",
       "Class                          0\n",
       "dtype: int64"
      ]
     },
     "execution_count": 11,
     "metadata": {},
     "output_type": "execute_result"
    }
   ],
   "source": [
    "empty = data.apply(lambda col: pd.isnull(col))\n",
    "empty.sum()"
   ]
  },
  {
   "cell_type": "markdown",
   "metadata": {
    "id": "44e8aSAO1r_Z"
   },
   "source": [
    "### Create a binary class label\n",
    "\n",
    "To do so, we will create a simple function to convert the label and store the result in a new colum of the dataframe"
   ]
  },
  {
   "cell_type": "code",
   "execution_count": 12,
   "metadata": {
    "id": "Ak7NxFDj1r_a"
   },
   "outputs": [],
   "source": [
    "def convert_to_binary(l):\n",
    "    return (l-2.0)/2 #because the values are 4 or 2, they now can become either 0 or 1."
   ]
  },
  {
   "cell_type": "code",
   "execution_count": 13,
   "metadata": {
    "id": "EhPPU0801r_a"
   },
   "outputs": [],
   "source": [
    "# We create the new column\n",
    "\n",
    "data['Binary Class'] = data[['Class']].apply(lambda l: convert_to_binary(l))\n",
    "\n",
    "data.drop('Class', axis=1, inplace=True)"
   ]
  },
  {
   "cell_type": "markdown",
   "metadata": {
    "id": "6H0a0kVQ1r_a"
   },
   "source": [
    "### Create a train and test sets\n",
    "\n",
    "We will simply split the dataset at random. 80% of the data will go to the training set, the rest to the test set."
   ]
  },
  {
   "cell_type": "code",
   "execution_count": 15,
   "metadata": {
    "colab": {
     "base_uri": "https://localhost:8080/",
     "height": 436
    },
    "id": "BkGDHuPf1r_b",
    "outputId": "4d1fde90-ce55-4b73-825e-a5e44fe7d28f"
   },
   "outputs": [
    {
     "data": {
      "text/html": [
       "<div>\n",
       "<style scoped>\n",
       "    .dataframe tbody tr th:only-of-type {\n",
       "        vertical-align: middle;\n",
       "    }\n",
       "\n",
       "    .dataframe tbody tr th {\n",
       "        vertical-align: top;\n",
       "    }\n",
       "\n",
       "    .dataframe thead th {\n",
       "        text-align: right;\n",
       "    }\n",
       "</style>\n",
       "<table border=\"1\" class=\"dataframe\">\n",
       "  <thead>\n",
       "    <tr style=\"text-align: right;\">\n",
       "      <th></th>\n",
       "      <th>Clump Thickness</th>\n",
       "      <th>Uniformity of Cell Size</th>\n",
       "      <th>Uniformity of Cell Shape</th>\n",
       "      <th>Marginal Adhesion</th>\n",
       "      <th>Single Epithelial Cell Size</th>\n",
       "      <th>Bland Chromatin</th>\n",
       "      <th>Normal Nucleoli</th>\n",
       "      <th>Mitoses</th>\n",
       "      <th>Binary Class</th>\n",
       "    </tr>\n",
       "  </thead>\n",
       "  <tbody>\n",
       "    <tr>\n",
       "      <th>285</th>\n",
       "      <td>8</td>\n",
       "      <td>10</td>\n",
       "      <td>10</td>\n",
       "      <td>10</td>\n",
       "      <td>8</td>\n",
       "      <td>10</td>\n",
       "      <td>7</td>\n",
       "      <td>3</td>\n",
       "      <td>1.0</td>\n",
       "    </tr>\n",
       "    <tr>\n",
       "      <th>607</th>\n",
       "      <td>1</td>\n",
       "      <td>1</td>\n",
       "      <td>1</td>\n",
       "      <td>1</td>\n",
       "      <td>2</td>\n",
       "      <td>1</td>\n",
       "      <td>1</td>\n",
       "      <td>1</td>\n",
       "      <td>0.0</td>\n",
       "    </tr>\n",
       "    <tr>\n",
       "      <th>587</th>\n",
       "      <td>5</td>\n",
       "      <td>1</td>\n",
       "      <td>1</td>\n",
       "      <td>1</td>\n",
       "      <td>2</td>\n",
       "      <td>2</td>\n",
       "      <td>2</td>\n",
       "      <td>1</td>\n",
       "      <td>0.0</td>\n",
       "    </tr>\n",
       "    <tr>\n",
       "      <th>458</th>\n",
       "      <td>5</td>\n",
       "      <td>1</td>\n",
       "      <td>2</td>\n",
       "      <td>1</td>\n",
       "      <td>2</td>\n",
       "      <td>1</td>\n",
       "      <td>1</td>\n",
       "      <td>1</td>\n",
       "      <td>0.0</td>\n",
       "    </tr>\n",
       "    <tr>\n",
       "      <th>431</th>\n",
       "      <td>5</td>\n",
       "      <td>1</td>\n",
       "      <td>1</td>\n",
       "      <td>3</td>\n",
       "      <td>4</td>\n",
       "      <td>3</td>\n",
       "      <td>2</td>\n",
       "      <td>1</td>\n",
       "      <td>0.0</td>\n",
       "    </tr>\n",
       "    <tr>\n",
       "      <th>...</th>\n",
       "      <td>...</td>\n",
       "      <td>...</td>\n",
       "      <td>...</td>\n",
       "      <td>...</td>\n",
       "      <td>...</td>\n",
       "      <td>...</td>\n",
       "      <td>...</td>\n",
       "      <td>...</td>\n",
       "      <td>...</td>\n",
       "    </tr>\n",
       "    <tr>\n",
       "      <th>263</th>\n",
       "      <td>10</td>\n",
       "      <td>4</td>\n",
       "      <td>4</td>\n",
       "      <td>10</td>\n",
       "      <td>6</td>\n",
       "      <td>5</td>\n",
       "      <td>5</td>\n",
       "      <td>1</td>\n",
       "      <td>1.0</td>\n",
       "    </tr>\n",
       "    <tr>\n",
       "      <th>103</th>\n",
       "      <td>8</td>\n",
       "      <td>2</td>\n",
       "      <td>3</td>\n",
       "      <td>1</td>\n",
       "      <td>6</td>\n",
       "      <td>7</td>\n",
       "      <td>1</td>\n",
       "      <td>1</td>\n",
       "      <td>1.0</td>\n",
       "    </tr>\n",
       "    <tr>\n",
       "      <th>347</th>\n",
       "      <td>1</td>\n",
       "      <td>1</td>\n",
       "      <td>1</td>\n",
       "      <td>1</td>\n",
       "      <td>1</td>\n",
       "      <td>1</td>\n",
       "      <td>3</td>\n",
       "      <td>1</td>\n",
       "      <td>0.0</td>\n",
       "    </tr>\n",
       "    <tr>\n",
       "      <th>551</th>\n",
       "      <td>1</td>\n",
       "      <td>1</td>\n",
       "      <td>1</td>\n",
       "      <td>1</td>\n",
       "      <td>2</td>\n",
       "      <td>3</td>\n",
       "      <td>1</td>\n",
       "      <td>1</td>\n",
       "      <td>0.0</td>\n",
       "    </tr>\n",
       "    <tr>\n",
       "      <th>540</th>\n",
       "      <td>5</td>\n",
       "      <td>1</td>\n",
       "      <td>1</td>\n",
       "      <td>1</td>\n",
       "      <td>2</td>\n",
       "      <td>2</td>\n",
       "      <td>1</td>\n",
       "      <td>1</td>\n",
       "      <td>0.0</td>\n",
       "    </tr>\n",
       "  </tbody>\n",
       "</table>\n",
       "<p>559 rows × 9 columns</p>\n",
       "</div>"
      ],
      "text/plain": [
       "     Clump Thickness  Uniformity of Cell Size  ...  Mitoses  Binary Class\n",
       "285                8                       10  ...        3           1.0\n",
       "607                1                        1  ...        1           0.0\n",
       "587                5                        1  ...        1           0.0\n",
       "458                5                        1  ...        1           0.0\n",
       "431                5                        1  ...        1           0.0\n",
       "..               ...                      ...  ...      ...           ...\n",
       "263               10                        4  ...        1           1.0\n",
       "103                8                        2  ...        1           1.0\n",
       "347                1                        1  ...        1           0.0\n",
       "551                1                        1  ...        1           0.0\n",
       "540                5                        1  ...        1           0.0\n",
       "\n",
       "[559 rows x 9 columns]"
      ]
     },
     "execution_count": 15,
     "metadata": {},
     "output_type": "execute_result"
    }
   ],
   "source": [
    "frac_train = 0.8\n",
    "\n",
    "data_train = int(data.shape[0]*frac_train) # Training points\n",
    "\n",
    "np.random.seed(seed=10) # To fix the random seed. So we all get the same partition\n",
    "\n",
    "mask = np.random.permutation(data.shape[0]) # Random order of data indexes\n",
    "\n",
    "train_data = data.iloc[list(mask[:data_train])].copy()\n",
    "\n",
    "test_data = data.iloc[list(mask[data_train:])].copy()\n",
    "\n",
    "train_data\n"
   ]
  },
  {
   "cell_type": "markdown",
   "metadata": {
    "id": "gZyaRkcq1r_b"
   },
   "source": [
    "### Normalize input variables \n",
    "\n",
    "To improve both the numerical robustness of our estimators and **enhance interpretability**, we will apply a linear normalization preprocessing stage to use as input to the linear regression features with (sample) mean 0 and (sample) variance equal to 1. \n",
    "The test set shall be normalized **using the train set statistics (mean and variance)**"
   ]
  },
  {
   "cell_type": "code",
   "execution_count": 17,
   "metadata": {
    "id": "h3BFcE-K1r_c"
   },
   "outputs": [],
   "source": [
    "means = train_data.mean()\n",
    "stds = train_data.std()"
   ]
  },
  {
   "cell_type": "code",
   "execution_count": 18,
   "metadata": {
    "colab": {
     "base_uri": "https://localhost:8080/"
    },
    "id": "3HADhqi31r_c",
    "outputId": "732c944d-ba16-4e02-d8a0-5d596a718e51"
   },
   "outputs": [
    {
     "name": "stdout",
     "output_type": "stream",
     "text": [
      "Clump Thickness\n",
      "Uniformity of Cell Size\n",
      "Uniformity of Cell Shape\n",
      "Marginal Adhesion\n",
      "Single Epithelial Cell Size\n",
      "Bland Chromatin\n",
      "Normal Nucleoli\n",
      "Mitoses\n"
     ]
    }
   ],
   "source": [
    "for idx, column_name in enumerate(train_data.columns[:-1]):\n",
    "    print(column_name)\n",
    "    train_data[column_name] = (train_data[column_name]-means[idx])/(stds[idx])\n",
    "    test_data[column_name] = (test_data[column_name]-means[idx])/(stds[idx])"
   ]
  },
  {
   "cell_type": "markdown",
   "metadata": {
    "id": "9rH8D2pz1r_c"
   },
   "source": [
    "Lets take a look to the resulting dataframe"
   ]
  },
  {
   "cell_type": "code",
   "execution_count": 19,
   "metadata": {
    "colab": {
     "base_uri": "https://localhost:8080/",
     "height": 376
    },
    "id": "kqQ-_LEo1r_c",
    "outputId": "50e5f6ad-1fdf-478e-ee36-34a944d2119d"
   },
   "outputs": [
    {
     "data": {
      "text/html": [
       "<div>\n",
       "<style scoped>\n",
       "    .dataframe tbody tr th:only-of-type {\n",
       "        vertical-align: middle;\n",
       "    }\n",
       "\n",
       "    .dataframe tbody tr th {\n",
       "        vertical-align: top;\n",
       "    }\n",
       "\n",
       "    .dataframe thead th {\n",
       "        text-align: right;\n",
       "    }\n",
       "</style>\n",
       "<table border=\"1\" class=\"dataframe\">\n",
       "  <thead>\n",
       "    <tr style=\"text-align: right;\">\n",
       "      <th></th>\n",
       "      <th>Clump Thickness</th>\n",
       "      <th>Uniformity of Cell Size</th>\n",
       "      <th>Uniformity of Cell Shape</th>\n",
       "      <th>Marginal Adhesion</th>\n",
       "      <th>Single Epithelial Cell Size</th>\n",
       "      <th>Bland Chromatin</th>\n",
       "      <th>Normal Nucleoli</th>\n",
       "      <th>Mitoses</th>\n",
       "      <th>Binary Class</th>\n",
       "    </tr>\n",
       "  </thead>\n",
       "  <tbody>\n",
       "    <tr>\n",
       "      <th>285</th>\n",
       "      <td>1.300525</td>\n",
       "      <td>2.285664</td>\n",
       "      <td>2.276496</td>\n",
       "      <td>2.455409</td>\n",
       "      <td>2.286331</td>\n",
       "      <td>2.658239</td>\n",
       "      <td>1.330666</td>\n",
       "      <td>0.867001</td>\n",
       "      <td>1.0</td>\n",
       "    </tr>\n",
       "    <tr>\n",
       "      <th>607</th>\n",
       "      <td>-1.212539</td>\n",
       "      <td>-0.700359</td>\n",
       "      <td>-0.747811</td>\n",
       "      <td>-0.642951</td>\n",
       "      <td>-0.552749</td>\n",
       "      <td>-1.010787</td>\n",
       "      <td>-0.608106</td>\n",
       "      <td>-0.338605</td>\n",
       "      <td>0.0</td>\n",
       "    </tr>\n",
       "    <tr>\n",
       "      <th>587</th>\n",
       "      <td>0.223498</td>\n",
       "      <td>-0.700359</td>\n",
       "      <td>-0.747811</td>\n",
       "      <td>-0.642951</td>\n",
       "      <td>-0.552749</td>\n",
       "      <td>-0.603117</td>\n",
       "      <td>-0.284977</td>\n",
       "      <td>-0.338605</td>\n",
       "      <td>0.0</td>\n",
       "    </tr>\n",
       "    <tr>\n",
       "      <th>458</th>\n",
       "      <td>0.223498</td>\n",
       "      <td>-0.700359</td>\n",
       "      <td>-0.411777</td>\n",
       "      <td>-0.642951</td>\n",
       "      <td>-0.552749</td>\n",
       "      <td>-1.010787</td>\n",
       "      <td>-0.608106</td>\n",
       "      <td>-0.338605</td>\n",
       "      <td>0.0</td>\n",
       "    </tr>\n",
       "    <tr>\n",
       "      <th>431</th>\n",
       "      <td>0.223498</td>\n",
       "      <td>-0.700359</td>\n",
       "      <td>-0.747811</td>\n",
       "      <td>0.045573</td>\n",
       "      <td>0.393611</td>\n",
       "      <td>-0.195448</td>\n",
       "      <td>-0.284977</td>\n",
       "      <td>-0.338605</td>\n",
       "      <td>0.0</td>\n",
       "    </tr>\n",
       "    <tr>\n",
       "      <th>52</th>\n",
       "      <td>2.018543</td>\n",
       "      <td>-0.036799</td>\n",
       "      <td>0.932359</td>\n",
       "      <td>-0.298689</td>\n",
       "      <td>-0.079569</td>\n",
       "      <td>0.212222</td>\n",
       "      <td>2.300052</td>\n",
       "      <td>0.264198</td>\n",
       "      <td>1.0</td>\n",
       "    </tr>\n",
       "    <tr>\n",
       "      <th>560</th>\n",
       "      <td>0.223498</td>\n",
       "      <td>-0.700359</td>\n",
       "      <td>-0.747811</td>\n",
       "      <td>-0.642951</td>\n",
       "      <td>-0.552749</td>\n",
       "      <td>-0.195448</td>\n",
       "      <td>-0.608106</td>\n",
       "      <td>-0.338605</td>\n",
       "      <td>0.0</td>\n",
       "    </tr>\n",
       "    <tr>\n",
       "      <th>445</th>\n",
       "      <td>-0.853530</td>\n",
       "      <td>-0.700359</td>\n",
       "      <td>-0.747811</td>\n",
       "      <td>-0.642951</td>\n",
       "      <td>-0.552749</td>\n",
       "      <td>-1.010787</td>\n",
       "      <td>-0.608106</td>\n",
       "      <td>-0.338605</td>\n",
       "      <td>0.0</td>\n",
       "    </tr>\n",
       "    <tr>\n",
       "      <th>292</th>\n",
       "      <td>1.300525</td>\n",
       "      <td>1.622103</td>\n",
       "      <td>1.604428</td>\n",
       "      <td>-0.642951</td>\n",
       "      <td>-0.552749</td>\n",
       "      <td>1.027561</td>\n",
       "      <td>2.300052</td>\n",
       "      <td>-0.338605</td>\n",
       "      <td>1.0</td>\n",
       "    </tr>\n",
       "    <tr>\n",
       "      <th>579</th>\n",
       "      <td>-1.212539</td>\n",
       "      <td>-0.700359</td>\n",
       "      <td>-0.747811</td>\n",
       "      <td>-0.642951</td>\n",
       "      <td>-0.552749</td>\n",
       "      <td>-0.195448</td>\n",
       "      <td>-0.608106</td>\n",
       "      <td>-0.338605</td>\n",
       "      <td>0.0</td>\n",
       "    </tr>\n",
       "  </tbody>\n",
       "</table>\n",
       "</div>"
      ],
      "text/plain": [
       "     Clump Thickness  Uniformity of Cell Size  ...   Mitoses  Binary Class\n",
       "285         1.300525                 2.285664  ...  0.867001           1.0\n",
       "607        -1.212539                -0.700359  ... -0.338605           0.0\n",
       "587         0.223498                -0.700359  ... -0.338605           0.0\n",
       "458         0.223498                -0.700359  ... -0.338605           0.0\n",
       "431         0.223498                -0.700359  ... -0.338605           0.0\n",
       "52          2.018543                -0.036799  ...  0.264198           1.0\n",
       "560         0.223498                -0.700359  ... -0.338605           0.0\n",
       "445        -0.853530                -0.700359  ... -0.338605           0.0\n",
       "292         1.300525                 1.622103  ... -0.338605           1.0\n",
       "579        -1.212539                -0.700359  ... -0.338605           0.0\n",
       "\n",
       "[10 rows x 9 columns]"
      ]
     },
     "execution_count": 19,
     "metadata": {},
     "output_type": "execute_result"
    }
   ],
   "source": [
    "train_data.head(10)"
   ]
  },
  {
   "cell_type": "code",
   "execution_count": 20,
   "metadata": {
    "colab": {
     "base_uri": "https://localhost:8080/"
    },
    "id": "6FSZV9yeK4dK",
    "outputId": "af5509a1-42ba-42e3-b4f9-93d9fea32b97"
   },
   "outputs": [
    {
     "name": "stdout",
     "output_type": "stream",
     "text": [
      "x [[ 1.300525    2.2856638   2.2764957  ...  2.6582384   1.3306657\n",
      "   0.8670005 ]\n",
      " [-1.2125387  -0.7003592  -0.7478111  ... -1.010787   -0.60810614\n",
      "  -0.3386047 ]\n",
      " [ 0.22349761 -0.7003592  -0.7478111  ... -0.60311747 -0.2849775\n",
      "  -0.3386047 ]\n",
      " ...\n",
      " [-1.2125387  -0.7003592  -0.7478111  ... -1.010787    0.03815114\n",
      "  -0.3386047 ]\n",
      " [-1.2125387  -0.7003592  -0.7478111  ... -0.195448   -0.60810614\n",
      "  -0.3386047 ]\n",
      " [ 0.22349761 -0.7003592  -0.7478111  ... -0.60311747 -0.60810614\n",
      "  -0.3386047 ]]\n",
      "y [1. 0. 0. 0. 0. 1. 0. 0. 1. 0. 1. 0. 0. 0. 0. 0. 0. 0. 0. 1. 1. 1. 1. 0.\n",
      " 0. 1. 1. 1. 0. 0. 0. 0. 1. 1. 0. 1. 1. 0. 0. 1. 0. 0. 0. 0. 1. 1. 0. 1.\n",
      " 0. 1. 0. 0. 0. 0. 0. 0. 1. 0. 1. 1. 0. 0. 0. 0. 0. 0. 0. 0. 0. 0. 0. 0.\n",
      " 0. 0. 0. 1. 1. 1. 0. 1. 0. 0. 0. 0. 0. 0. 0. 0. 1. 0. 1. 0. 1. 0. 0. 0.\n",
      " 0. 0. 0. 0. 0. 0. 0. 0. 0. 1. 0. 0. 0. 0. 0. 0. 1. 0. 1. 1. 0. 0. 1. 0.\n",
      " 0. 0. 0. 1. 0. 0. 0. 1. 1. 1. 1. 0. 0. 0. 1. 0. 1. 0. 0. 0. 0. 0. 0. 1.\n",
      " 0. 0. 0. 0. 0. 1. 1. 1. 0. 1. 1. 0. 0. 0. 0. 0. 1. 0. 0. 0. 0. 0. 1. 1.\n",
      " 0. 1. 0. 1. 0. 1. 1. 1. 0. 1. 0. 1. 0. 1. 1. 0. 0. 1. 0. 0. 1. 1. 0. 0.\n",
      " 1. 0. 0. 0. 0. 1. 0. 0. 0. 0. 0. 0. 0. 0. 0. 1. 0. 0. 1. 0. 1. 1. 1. 0.\n",
      " 0. 0. 0. 1. 0. 0. 0. 0. 0. 1. 0. 1. 0. 1. 1. 1. 0. 0. 0. 0. 0. 0. 1. 0.\n",
      " 0. 0. 0. 0. 0. 1. 1. 0. 0. 0. 1. 0. 1. 0. 0. 0. 0. 1. 0. 0. 0. 0. 1. 0.\n",
      " 0. 1. 1. 1. 0. 0. 1. 1. 1. 0. 1. 1. 1. 0. 0. 0. 0. 1. 1. 1. 0. 1. 1. 0.\n",
      " 0. 0. 0. 0. 0. 1. 1. 0. 1. 1. 1. 0. 0. 1. 0. 0. 0. 0. 0. 0. 0. 0. 1. 1.\n",
      " 1. 0. 0. 1. 1. 1. 1. 1. 0. 0. 0. 1. 1. 1. 0. 1. 0. 1. 0. 1. 0. 1. 0. 0.\n",
      " 0. 0. 0. 0. 1. 1. 0. 0. 1. 1. 0. 1. 0. 1. 0. 0. 0. 1. 1. 0. 1. 0. 1. 0.\n",
      " 0. 0. 0. 0. 0. 0. 0. 0. 1. 1. 1. 0. 1. 1. 0. 1. 1. 0. 0. 1. 0. 1. 1. 1.\n",
      " 1. 0. 0. 0. 0. 0. 1. 0. 0. 1. 0. 0. 0. 0. 1. 0. 1. 0. 0. 0. 0. 0. 1. 0.\n",
      " 1. 1. 0. 1. 0. 1. 0. 0. 0. 0. 0. 0. 0. 0. 1. 0. 0. 0. 1. 0. 0. 1. 1. 1.\n",
      " 0. 0. 1. 1. 0. 0. 0. 0. 0. 1. 1. 0. 0. 1. 0. 1. 1. 0. 0. 0. 0. 0. 0. 1.\n",
      " 1. 0. 0. 0. 0. 1. 0. 0. 1. 0. 1. 0. 0. 0. 0. 1. 1. 0. 0. 0. 1. 0. 0. 0.\n",
      " 0. 0. 0. 0. 0. 0. 1. 0. 0. 1. 0. 0. 0. 0. 0. 0. 1. 1. 0. 0. 0. 0. 0. 0.\n",
      " 0. 0. 0. 0. 0. 1. 0. 0. 1. 1. 0. 1. 1. 1. 0. 0. 0. 1. 0. 0. 1. 0. 0. 1.\n",
      " 0. 1. 0. 1. 1. 1. 0. 0. 1. 0. 1. 1. 1. 0. 0. 0. 0. 0. 1. 0. 0. 0. 0. 0.\n",
      " 1. 0. 1. 1. 0. 0. 0.]\n"
     ]
    }
   ],
   "source": [
    "\n",
    "x = np.array(train_data).astype(np.float32)\n",
    "# Last Column is the class\n",
    "y = x[:, -1]  \n",
    "x = x[:, :-1]\n",
    "\n",
    "print('x', x)\n",
    "print('y', y)"
   ]
  },
  {
   "cell_type": "markdown",
   "metadata": {
    "id": "TIY7htiN1r_h"
   },
   "source": [
    "When can define a logistic regressor by instantiating the class `LR_compact`, we can access the weights and the bias as `self.output.weight` and `self.output.bias`. We will define the data to be used, $x$ as an array of the train_data. It will be used for training the model, while the $y$ array will be used for testing."
   ]
  },
  {
   "cell_type": "code",
   "execution_count": 21,
   "metadata": {
    "id": "TiyoCn12K4dK"
   },
   "outputs": [],
   "source": [
    "\n",
    "from torch import nn\n",
    "\n",
    "class LR_compact(nn.Module):\n",
    "    def __init__(self,dimx):\n",
    "        super().__init__()\n",
    "        \n",
    "        self.output = nn.Linear(dimx, 1)\n",
    "    \n",
    "        # Define sigmoid activation and softmax output \n",
    "        self.sigmoid = nn.Sigmoid()\n",
    "        \n",
    "    def forward(self, x):\n",
    "        # Pass the input tensor through each of our operations\n",
    "        x = self.output(x)\n",
    "        x = self.sigmoid(x)\n",
    "        return x"
   ]
  },
  {
   "cell_type": "code",
   "execution_count": 22,
   "metadata": {
    "id": "DHBgDWCj1r_m"
   },
   "outputs": [],
   "source": [
    "''' This class inherits from the LR_compact class. So it has the same atributes\n",
    "and methods, and some others that we will add. \n",
    "'''\n",
    "\n",
    "import torch\n",
    "\n",
    "class LR_extended(LR_compact):\n",
    "    \n",
    "    def __init__(self, dimx, sgd_iterations=1000, lr=0.001, print_every=500):\n",
    "        \n",
    "        super().__init__(dimx)  #To initialize LR_compact!\n",
    "        \n",
    "        self.lr = lr #Learning Rate\n",
    "        \n",
    "        self.optim = torch.optim.SGD(self.parameters(), self.lr)\n",
    "        \n",
    "        self.sgd_iterations = sgd_iterations #SGD steps\n",
    "        \n",
    "        self.criterion = nn.BCELoss()\n",
    "        \n",
    "        # A list to store the loss evolution along training\n",
    "        \n",
    "        self.loss_during_training = [] \n",
    "        \n",
    "        self.print_every = print_every\n",
    "        \n",
    "    def train(self,x,y):\n",
    "        \n",
    "        # SGD Loop\n",
    "        \n",
    "        for iter in range(int(self.sgd_iterations)):\n",
    "        \n",
    "            self.optim.zero_grad()  #TO RESET GRADIENTS!\n",
    "\n",
    "            out = self.forward(x)\n",
    "\n",
    "            loss = self.criterion(out, y.view(x.shape[0], 1)) #so the shapes are correct.\n",
    "\n",
    "            self.loss_during_training.append(loss.item())\n",
    "\n",
    "            loss.backward()\n",
    "\n",
    "            self.optim.step()\n",
    "        \n",
    "            if(iter % self.print_every == 0): # Every iteration \n",
    "                \n",
    "                print(\"Training loss after %d iterations: %f\" \n",
    "                      %(iter,self.loss_during_training[-1]))\n",
    "        "
   ]
  },
  {
   "cell_type": "code",
   "execution_count": 23,
   "metadata": {
    "colab": {
     "base_uri": "https://localhost:8080/"
    },
    "id": "Vq-nmrYU1r_m",
    "outputId": "3f0d49c2-8861-4aa5-bac2-881afb46f2d5"
   },
   "outputs": [
    {
     "name": "stdout",
     "output_type": "stream",
     "text": [
      "Training loss after 0 iterations: 0.810289\n",
      "Training loss after 500 iterations: 0.483420\n",
      "Training loss after 1000 iterations: 0.354025\n",
      "Training loss after 1500 iterations: 0.287413\n",
      "Training loss after 2000 iterations: 0.247579\n",
      "Training loss after 2500 iterations: 0.221384\n"
     ]
    }
   ],
   "source": [
    "my_LR = LR_extended(x.shape[1], sgd_iterations=3000, lr=0.001)\n",
    "\n",
    "my_LR.train(torch.tensor(x), torch.tensor(y))"
   ]
  },
  {
   "cell_type": "code",
   "execution_count": 25,
   "metadata": {
    "colab": {
     "base_uri": "https://localhost:8080/",
     "height": 977
    },
    "id": "5uQ8chTj1r_n",
    "outputId": "0612b9e5-d0b3-4eef-e0df-c9ed75b741e9"
   },
   "outputs": [
    {
     "name": "stdout",
     "output_type": "stream",
     "text": [
      "Training loss after 0 iterations: 0.387780\n",
      "Training loss after 500 iterations: 0.294271\n",
      "Training loss after 1000 iterations: 0.245697\n",
      "Training loss after 1500 iterations: 0.216062\n",
      "Training loss after 2000 iterations: 0.196153\n",
      "Training loss after 2500 iterations: 0.181896\n",
      "Training loss after 3000 iterations: 0.171207\n",
      "Training loss after 3500 iterations: 0.162913\n",
      "Training loss after 4000 iterations: 0.156303\n",
      "Training loss after 4500 iterations: 0.150918\n",
      "Training loss after 5000 iterations: 0.146454\n",
      "Training loss after 5500 iterations: 0.142697\n",
      "Training loss after 6000 iterations: 0.139495\n",
      "Training loss after 6500 iterations: 0.136735\n",
      "Training loss after 7000 iterations: 0.134334\n",
      "Training loss after 7500 iterations: 0.132227\n",
      "Training loss after 8000 iterations: 0.130364\n",
      "Training loss after 8500 iterations: 0.128706\n",
      "Training loss after 9000 iterations: 0.127221\n",
      "Training loss after 9500 iterations: 0.125884\n",
      "Training loss after 10000 iterations: 0.124673\n",
      "Training loss after 10500 iterations: 0.123573\n",
      "Training loss after 11000 iterations: 0.122568\n",
      "Training loss after 11500 iterations: 0.121647\n",
      "Training loss after 12000 iterations: 0.120800\n",
      "Training loss after 12500 iterations: 0.120017\n",
      "Training loss after 13000 iterations: 0.119292\n",
      "Training loss after 13500 iterations: 0.118619\n",
      "Training loss after 14000 iterations: 0.117992\n",
      "Training loss after 14500 iterations: 0.117407\n",
      "Training loss after 15000 iterations: 0.116859\n",
      "Training loss after 15500 iterations: 0.116345\n",
      "Training loss after 16000 iterations: 0.115861\n",
      "Training loss after 16500 iterations: 0.115405\n",
      "Training loss after 17000 iterations: 0.114975\n",
      "Training loss after 17500 iterations: 0.114568\n",
      "Training loss after 18000 iterations: 0.114182\n",
      "Training loss after 18500 iterations: 0.113816\n",
      "Training loss after 19000 iterations: 0.113468\n",
      "Training loss after 19500 iterations: 0.113137\n"
     ]
    },
    {
     "data": {
      "text/plain": [
       "<matplotlib.legend.Legend at 0x7f8ccb71fd50>"
      ]
     },
     "execution_count": 25,
     "metadata": {},
     "output_type": "execute_result"
    },
    {
     "data": {
      "image/png": "[encoded data removed]",
      "text/plain": [
       "<Figure size 432x288 with 1 Axes>"
      ]
     },
     "metadata": {
      "image/png": {
       "height": 263,
       "width": 379
      },
      "needs_background": "light"
     },
     "output_type": "display_data"
    }
   ],
   "source": [
    "# Train from scratch the logistic regressor for 20.000 iterations\n",
    "my_LR = LR_extended(x.shape[1], sgd_iterations=20000, lr=0.001)\n",
    "my_LR.train(torch.tensor(x), torch.tensor(y))\n",
    "\n",
    "\n",
    "plt.plot(my_LR.loss_during_training, '-b', label='loss')\n",
    "plt.grid()\n",
    "plt.title('Evolution of the binary cross entropy loss')\n",
    "plt.legend()"
   ]
  },
  {
   "cell_type": "markdown",
   "metadata": {},
   "source": [
    "We can see that the *loss* decreases as the number of iterations increases."
   ]
  },
  {
   "cell_type": "markdown",
   "metadata": {
    "id": "br5qhm4b1r_n"
   },
   "source": [
    "#### Evaluating the model in the test set\n",
    "\n",
    "Now that we have trained our logistic regressor, it is time to compare its performance in both the training and the test sets.\n"
   ]
  },
  {
   "cell_type": "code",
   "execution_count": 27,
   "metadata": {
    "colab": {
     "base_uri": "https://localhost:8080/"
    },
    "id": "grNuF2i_1r_n",
    "outputId": "48dd90ec-91d6-470b-8dd2-9e63fa7b55f8"
   },
   "outputs": [
    {
     "name": "stdout",
     "output_type": "stream",
     "text": [
      "Training loss after 0 iterations: 0.845874\n",
      "Training loss after 500 iterations: 0.480725\n",
      "Training loss after 1000 iterations: 0.346469\n",
      "Training loss after 1500 iterations: 0.280151\n",
      "Training loss after 2000 iterations: 0.241089\n",
      "Training loss after 2500 iterations: 0.215548\n"
     ]
    }
   ],
   "source": [
    "# Logistic regressor output for both the training data and the test data.\n",
    "\n",
    "my_LR = LR_extended(x.shape[1], sgd_iterations=3000, lr=0.001)\n",
    "\n",
    "out_train = my_LR.forward(torch.tensor(x))\n",
    "\n",
    "my_LR.train(torch.tensor(x), torch.tensor(y))"
   ]
  },
  {
   "cell_type": "markdown",
   "metadata": {
    "id": "j5Y1OzTt1r_o"
   },
   "source": [
    "## Training a Logistic Regressor with mini-batch stochastic gradient descent\n",
    "\n",
    "Finally, we are going to implement an scalable version of the gradient descent training implemented above. At every iteration, instead of evaluating the gradient using all data points, a small minibatch of data will be used.\n",
    "\n",
    "To make sure that all training data points are evenly used to evaluate the gradient, we will use a short iterating function. Instead of predefining a certain number of SGD iterations, we define a certain number of **epochs**. After every epoch **all datapoints** have been used in the optimizer once. \n",
    "\n"
   ]
  },
  {
   "cell_type": "code",
   "execution_count": 34,
   "metadata": {
    "id": "k21sLkZA1r_o"
   },
   "outputs": [],
   "source": [
    "''' This class inherits from the LR_compact class. So it has the same atributes\n",
    "and methods, and some others that we will add. \n",
    "'''\n",
    "\n",
    "import torch\n",
    "\n",
    "class LR_stochastic(LR_compact):\n",
    "    \n",
    "    def __init__(self, dimx, num_train_data,\n",
    "                 epochs=100, lr=0.001, batch_size=50, print_every=20):\n",
    "        \n",
    "        super().__init__(dimx)  #To initialize LR2!\n",
    "        \n",
    "        self.lr = lr #Learning Rate\n",
    "        \n",
    "        self.optim = torch.optim.SGD(self.parameters(), self.lr)\n",
    "        \n",
    "        self.epochs = epochs\n",
    "        \n",
    "        self.print_every = print_every  # Print loss every \n",
    "        \n",
    "        self.criterion = nn.BCELoss()\n",
    "        \n",
    "        # A list to store the loss evolution along training\n",
    "        \n",
    "        self.loss_during_training = [] \n",
    "        \n",
    "        self.batch_size = batch_size\n",
    "        \n",
    "        self.num_train = num_train_data\n",
    "        \n",
    "        self.num_batchs = np.floor(self.num_train/self.batch_size)\n",
    "        \n",
    "\n",
    "        \n",
    "    def train(self, x, y):\n",
    "        \n",
    "        # SGD Loop\n",
    "        \n",
    "        for e in range(int(self.epochs)):\n",
    "            \n",
    "            # Random data permutation at each epoch\n",
    "            \n",
    "            idx = np.random.permutation(self.num_train)\n",
    "            \n",
    "            running_loss = 0.\n",
    "            \n",
    "            for i in range(int(self.num_batchs)):\n",
    "        \n",
    "                self.optim.zero_grad()  #TO RESET GRADIENTS!\n",
    "            \n",
    "                # Indexes of the datapoints that enter the batch\n",
    "            \n",
    "                idx_batch = idx[i*self.batch_size:(i+1)*self.batch_size]\n",
    "\n",
    "                out = self.forward(x[idx_batch,:]) \n",
    "\n",
    "                loss = self.criterion(out, y[idx_batch].view(x[idx_batch,:].shape[0], 1))\n",
    "\n",
    "                running_loss += loss.item()\n",
    "\n",
    "                loss.backward()\n",
    "                \n",
    "                self.optim.step()\n",
    "                \n",
    "            self.loss_during_training.append(running_loss/self.num_batchs)\n",
    "\n",
    "            if(e % self.print_every == 0): \n",
    "                print(\"Training loss after %d epochs: %f\" %(e,self.loss_during_training[-1]))\n",
    "\n",
    "\n",
    "\n",
    "    def evaluate(self, out_value, true_value):\n",
    "      return np.sum((out_value.detach().numpy()>=0.5) == true_value.reshape([-1, 1]))/true_value.shape[0]\n"
   ]
  },
  {
   "cell_type": "code",
   "execution_count": 35,
   "metadata": {
    "colab": {
     "base_uri": "https://localhost:8080/"
    },
    "id": "XClEsutr2dT8",
    "outputId": "1a736c49-fd42-4a40-9c1a-7be2b7ea2452"
   },
   "outputs": [
    {
     "name": "stdout",
     "output_type": "stream",
     "text": [
      "Training loss after 0 epochs: 0.735732\n",
      "Training loss after 20 epochs: 0.567716\n",
      "Training loss after 40 epochs: 0.462173\n",
      "Training loss after 60 epochs: 0.395182\n",
      "Training loss after 80 epochs: 0.345316\n"
     ]
    }
   ],
   "source": [
    "\n",
    "my_LR_stochastic = LR_stochastic(x.shape[1], num_train_data = x.shape[0], lr=0.001)\n",
    "my_LR_stochastic.train(torch.tensor(x), torch.tensor(y))\n",
    "\n",
    "#my_LR_stochastic.loss_during_training "
   ]
  },
  {
   "cell_type": "code",
   "execution_count": 40,
   "metadata": {
    "colab": {
     "base_uri": "https://localhost:8080/",
     "height": 620
    },
    "id": "tFMvwSI1MG4b",
    "outputId": "8ff8bc29-ab26-4af2-8307-1284f9ee5bdb"
   },
   "outputs": [
    {
     "name": "stdout",
     "output_type": "stream",
     "text": [
      "Training loss after 0 epochs: 0.730282\n",
      "Training loss after 20 epochs: 0.316043\n",
      "Training loss after 40 epochs: 0.222460\n",
      "Training loss after 60 epochs: 0.184762\n",
      "Training loss after 80 epochs: 0.163774\n",
      "Training loss after 0 epochs: 0.957025\n",
      "Training loss after 20 epochs: 0.482012\n",
      "Training loss after 40 epochs: 0.332690\n",
      "Training loss after 60 epochs: 0.268184\n",
      "Training loss after 80 epochs: 0.229191\n",
      "Training loss after 0 epochs: 1.073596\n",
      "Training loss after 20 epochs: 0.776605\n",
      "Training loss after 40 epochs: 0.600146\n",
      "Training loss after 60 epochs: 0.490151\n",
      "Training loss after 80 epochs: 0.414882\n",
      "Training loss after 0 epochs: 0.923548\n",
      "Training loss after 20 epochs: 0.782331\n",
      "Training loss after 40 epochs: 0.673835\n",
      "Training loss after 60 epochs: 0.593449\n",
      "Training loss after 80 epochs: 0.532031\n"
     ]
    },
    {
     "data": {
      "image/png": "[encoded data removed]",
      "text/plain": [
       "<Figure size 432x288 with 1 Axes>"
      ]
     },
     "metadata": {
      "image/png": {
       "height": 263,
       "width": 372
      },
      "needs_background": "light"
     },
     "output_type": "display_data"
    }
   ],
   "source": [
    "batch_sizes = [10, 20, 50, 100]\n",
    "colors = ['r', 'g', 'b', 'y']\n",
    "\n",
    "\n",
    "# Plot of the SGD of a logistic regressor with different batch sizes.\n",
    "\n",
    "for i in zip(batch_sizes, colors):\n",
    "\n",
    "  my_LR_stochastic = LR_stochastic(x.shape[1], num_train_data = x.shape[0], lr=0.001, batch_size=i[0])\n",
    "  my_LR_stochastic.train(torch.tensor(x), torch.tensor(y))\n",
    "\n",
    "  plt.plot(my_LR_stochastic.loss_during_training, f'-{i[1]}', label=f'loss for a batch size of {i[0]}.')\n",
    "  \n",
    "plt.grid()\n",
    "plt.legend(loc = 'best')\n",
    "plt.title('Evolution of the binary cross entropy loss')\n",
    "plt.show()"
   ]
  },
  {
   "cell_type": "code",
   "execution_count": null,
   "metadata": {
    "id": "ZvRzGUH7LNRz"
   },
   "outputs": [],
   "source": []
  }
 ],
 "metadata": {
  "colab": {
   "collapsed_sections": [],
   "name": "Logistic Regression Pytorch.ipynb",
   "provenance": []
  },
  "kernelspec": {
   "display_name": "Python 3",
   "language": "python",
   "name": "python3"
  },
  "language_info": {
   "codemirror_mode": {
    "name": "ipython",
    "version": 3
   },
   "file_extension": ".py",
   "mimetype": "text/x-python",
   "name": "python",
   "nbconvert_exporter": "python",
   "pygments_lexer": "ipython3",
   "version": "3.8.5"
  }
 },
 "nbformat": 4,
 "nbformat_minor": 1
}
